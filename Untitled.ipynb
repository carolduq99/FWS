{
 "cells": [
  {
   "cell_type": "code",
   "execution_count": 2,
   "metadata": {},
   "outputs": [
    {
     "ename": "ModuleNotFoundError",
     "evalue": "No module named 'rdflib'",
     "output_type": "error",
     "traceback": [
      "\u001b[1;31m---------------------------------------------------------------------------\u001b[0m",
      "\u001b[1;31mModuleNotFoundError\u001b[0m                       Traceback (most recent call last)",
      "\u001b[1;32m<ipython-input-2-28b48206e7ce>\u001b[0m in \u001b[0;36m<module>\u001b[1;34m\u001b[0m\n\u001b[1;32m----> 1\u001b[1;33m \u001b[1;32mfrom\u001b[0m \u001b[0mrdflib\u001b[0m \u001b[1;32mimport\u001b[0m \u001b[0mGraph\u001b[0m\u001b[1;33m,\u001b[0m \u001b[0mURIRef\u001b[0m\u001b[1;33m,\u001b[0m \u001b[0mRDF\u001b[0m\u001b[1;33m,\u001b[0m \u001b[0mLiteral\u001b[0m\u001b[1;33m,\u001b[0m \u001b[0mBNode\u001b[0m\u001b[1;33m,\u001b[0m\u001b[0mNamespace\u001b[0m\u001b[1;33m\u001b[0m\u001b[1;33m\u001b[0m\u001b[0m\n\u001b[0m\u001b[0;32m      2\u001b[0m \u001b[1;32mfrom\u001b[0m \u001b[0mrdflib\u001b[0m\u001b[1;33m.\u001b[0m\u001b[0mnamespace\u001b[0m \u001b[1;32mimport\u001b[0m \u001b[0mFOAF\u001b[0m\u001b[1;33m,\u001b[0m \u001b[0mXSD\u001b[0m\u001b[1;33m,\u001b[0m \u001b[0mRDFS\u001b[0m\u001b[1;33m\u001b[0m\u001b[1;33m\u001b[0m\u001b[0m\n",
      "\u001b[1;31mModuleNotFoundError\u001b[0m: No module named 'rdflib'"
     ]
    }
   ],
   "source": [
    "from rdflib import Graph, URIRef, RDF, Literal, BNode,Namespace\n",
    "from rdflib.namespace import FOAF, XSD, RDFS\n"
   ]
  },
  {
   "cell_type": "code",
   "execution_count": 5,
   "metadata": {},
   "outputs": [
    {
     "ename": "ValueError",
     "evalue": "too many values to unpack (expected 21)",
     "output_type": "error",
     "traceback": [
      "\u001b[1;31m---------------------------------------------------------------------------\u001b[0m",
      "\u001b[1;31mValueError\u001b[0m                                Traceback (most recent call last)",
      "\u001b[1;32m<ipython-input-5-25fc9eae4e4f>\u001b[0m in \u001b[0;36m<module>\u001b[1;34m\u001b[0m\n\u001b[0;32m      4\u001b[0m \u001b[1;33m\u001b[0m\u001b[0m\n\u001b[0;32m      5\u001b[0m \u001b[1;32mfor\u001b[0m \u001b[0mlin\u001b[0m \u001b[1;32min\u001b[0m \u001b[0mlines\u001b[0m\u001b[1;33m[\u001b[0m\u001b[1;36m1\u001b[0m\u001b[1;33m:\u001b[0m\u001b[1;33m]\u001b[0m\u001b[1;33m:\u001b[0m\u001b[1;33m\u001b[0m\u001b[1;33m\u001b[0m\u001b[0m\n\u001b[1;32m----> 6\u001b[1;33m     \u001b[0muid\u001b[0m\u001b[1;33m,\u001b[0m \u001b[0mname\u001b[0m\u001b[1;33m,\u001b[0m \u001b[0msell_price\u001b[0m\u001b[1;33m,\u001b[0m \u001b[0mwhere_how\u001b[0m\u001b[1;33m,\u001b[0m \u001b[0mweather\u001b[0m\u001b[1;33m,\u001b[0m \u001b[0mcatches2unlock\u001b[0m\u001b[1;33m,\u001b[0m \u001b[0mspawn_rate\u001b[0m\u001b[1;33m,\u001b[0m\u001b[0mwhen_jan\u001b[0m\u001b[1;33m,\u001b[0m\u001b[0mwhen_fev\u001b[0m\u001b[1;33m,\u001b[0m\u001b[0mwhen_mar\u001b[0m\u001b[1;33m,\u001b[0m\u001b[0mwhen_apr\u001b[0m\u001b[1;33m,\u001b[0m\u001b[0mwhen_may\u001b[0m\u001b[1;33m,\u001b[0m\u001b[0mwhen_jun\u001b[0m\u001b[1;33m,\u001b[0m\u001b[0mwhen_jul\u001b[0m\u001b[1;33m,\u001b[0m\u001b[0mwhen_aug\u001b[0m\u001b[1;33m,\u001b[0m\u001b[0mwhen_sep\u001b[0m\u001b[1;33m,\u001b[0m\u001b[0mwhen_oct\u001b[0m\u001b[1;33m,\u001b[0m\u001b[0mwhen_nov\u001b[0m\u001b[1;33m,\u001b[0m\u001b[0mwhen_dec\u001b[0m\u001b[1;33m,\u001b[0m\u001b[0mcolor1\u001b[0m\u001b[1;33m,\u001b[0m\u001b[0mcolor2\u001b[0m \u001b[1;33m=\u001b[0m \u001b[0mlin\u001b[0m\u001b[1;33m.\u001b[0m\u001b[0msplit\u001b[0m\u001b[1;33m(\u001b[0m\u001b[1;34m\";\"\u001b[0m\u001b[1;33m)\u001b[0m\u001b[1;33m\u001b[0m\u001b[1;33m\u001b[0m\u001b[0m\n\u001b[0m\u001b[0;32m      7\u001b[0m     \u001b[0minsect\u001b[0m\u001b[1;33m=\u001b[0m\u001b[1;33m{\u001b[0m\u001b[1;34m\"uid\"\u001b[0m\u001b[1;33m:\u001b[0m  \u001b[0mstr\u001b[0m\u001b[1;33m(\u001b[0m\u001b[0muid\u001b[0m\u001b[1;33m)\u001b[0m\u001b[1;33m,\u001b[0m \u001b[1;34m\"name\"\u001b[0m\u001b[1;33m:\u001b[0m \u001b[0mstr\u001b[0m\u001b[1;33m(\u001b[0m\u001b[0mname\u001b[0m\u001b[1;33m)\u001b[0m\u001b[1;33m,\u001b[0m \u001b[1;34m\"sell_price\"\u001b[0m\u001b[1;33m:\u001b[0m \u001b[0mint\u001b[0m\u001b[1;33m(\u001b[0m\u001b[0msell_price\u001b[0m\u001b[1;33m)\u001b[0m\u001b[1;33m,\u001b[0m \u001b[1;34m\"where_how\"\u001b[0m\u001b[1;33m:\u001b[0m \u001b[0mstr\u001b[0m\u001b[1;33m(\u001b[0m\u001b[0mwhere_how\u001b[0m\u001b[1;33m)\u001b[0m\u001b[1;33m,\u001b[0m\u001b[1;34m\"weather\"\u001b[0m\u001b[1;33m:\u001b[0m\u001b[0mstr\u001b[0m\u001b[1;33m(\u001b[0m\u001b[0mweather\u001b[0m\u001b[1;33m)\u001b[0m\u001b[1;33m,\u001b[0m \u001b[1;34m\"catches2unlock\"\u001b[0m\u001b[1;33m:\u001b[0m \u001b[0mint\u001b[0m\u001b[1;33m(\u001b[0m\u001b[0mcatches2unlock\u001b[0m\u001b[1;33m)\u001b[0m\u001b[1;33m,\u001b[0m \u001b[1;34m\"spawn_rate\"\u001b[0m\u001b[1;33m:\u001b[0m \u001b[0mint\u001b[0m\u001b[1;33m(\u001b[0m\u001b[0mspawn_rate\u001b[0m\u001b[1;33m)\u001b[0m\u001b[1;33m,\u001b[0m\u001b[1;34m\"when_jan\"\u001b[0m\u001b[1;33m:\u001b[0m \u001b[0mstr\u001b[0m\u001b[1;33m(\u001b[0m\u001b[0mwhen_jan\u001b[0m\u001b[1;33m)\u001b[0m\u001b[1;33m,\u001b[0m\u001b[1;34m\"when_fev\"\u001b[0m\u001b[1;33m:\u001b[0m \u001b[0mstr\u001b[0m\u001b[1;33m(\u001b[0m\u001b[0mwhen_fev\u001b[0m\u001b[1;33m)\u001b[0m\u001b[1;33m,\u001b[0m\u001b[1;34m\"when_mar\"\u001b[0m\u001b[1;33m:\u001b[0m \u001b[0mstr\u001b[0m\u001b[1;33m(\u001b[0m\u001b[0mwhen_mar\u001b[0m\u001b[1;33m)\u001b[0m\u001b[1;33m,\u001b[0m\u001b[1;34m\"when_apr\"\u001b[0m\u001b[1;33m:\u001b[0m \u001b[0mstr\u001b[0m\u001b[1;33m(\u001b[0m\u001b[0mwhen_apr\u001b[0m\u001b[1;33m)\u001b[0m\u001b[1;33m,\u001b[0m\u001b[1;34m\"when_may\"\u001b[0m\u001b[1;33m:\u001b[0m \u001b[0mstr\u001b[0m\u001b[1;33m(\u001b[0m\u001b[0mwhen_may\u001b[0m\u001b[1;33m)\u001b[0m\u001b[1;33m,\u001b[0m\u001b[1;34m\"when_jun\"\u001b[0m\u001b[1;33m:\u001b[0m \u001b[0mstr\u001b[0m\u001b[1;33m(\u001b[0m\u001b[0mwhen_jun\u001b[0m\u001b[1;33m)\u001b[0m\u001b[1;33m,\u001b[0m\u001b[1;34m\"when_jul\"\u001b[0m\u001b[1;33m:\u001b[0m \u001b[0mstr\u001b[0m\u001b[1;33m(\u001b[0m\u001b[0mwhen_jul\u001b[0m\u001b[1;33m)\u001b[0m\u001b[1;33m,\u001b[0m\u001b[1;34m\"when_aug\"\u001b[0m\u001b[1;33m:\u001b[0m \u001b[0mstr\u001b[0m\u001b[1;33m(\u001b[0m\u001b[0mwhen_aug\u001b[0m\u001b[1;33m)\u001b[0m\u001b[1;33m,\u001b[0m\u001b[1;34m\"when_sep\"\u001b[0m\u001b[1;33m:\u001b[0m \u001b[0mstr\u001b[0m\u001b[1;33m(\u001b[0m\u001b[0mwhen_sep\u001b[0m\u001b[1;33m)\u001b[0m\u001b[1;33m,\u001b[0m\u001b[1;34m\"when_oct\"\u001b[0m\u001b[1;33m:\u001b[0m \u001b[0mstr\u001b[0m\u001b[1;33m(\u001b[0m\u001b[0mwhen_oct\u001b[0m\u001b[1;33m)\u001b[0m\u001b[1;33m,\u001b[0m\u001b[1;34m\"when_nov\"\u001b[0m\u001b[1;33m:\u001b[0m \u001b[0mstr\u001b[0m\u001b[1;33m(\u001b[0m\u001b[0mwhen_nov\u001b[0m\u001b[1;33m)\u001b[0m\u001b[1;33m,\u001b[0m\u001b[1;34m\"when_dec\"\u001b[0m\u001b[1;33m:\u001b[0m \u001b[0mstr\u001b[0m\u001b[1;33m(\u001b[0m\u001b[0mwhen_dec\u001b[0m\u001b[1;33m)\u001b[0m\u001b[1;33m,\u001b[0m\u001b[1;34m\"color1\"\u001b[0m\u001b[1;33m:\u001b[0m \u001b[0mstr\u001b[0m\u001b[1;33m(\u001b[0m\u001b[0mcolor1\u001b[0m\u001b[1;33m)\u001b[0m\u001b[1;33m,\u001b[0m\u001b[1;34m\"color2\"\u001b[0m\u001b[1;33m:\u001b[0m \u001b[0mstr\u001b[0m\u001b[1;33m(\u001b[0m\u001b[0mcolor2\u001b[0m\u001b[1;33m)\u001b[0m\u001b[1;33m}\u001b[0m\u001b[1;33m\u001b[0m\u001b[1;33m\u001b[0m\u001b[0m\n\u001b[0;32m      8\u001b[0m     \u001b[0minsects\u001b[0m\u001b[1;33m.\u001b[0m\u001b[0mappend\u001b[0m\u001b[1;33m(\u001b[0m\u001b[0minsect\u001b[0m\u001b[1;33m)\u001b[0m\u001b[1;33m\u001b[0m\u001b[1;33m\u001b[0m\u001b[0m\n",
      "\u001b[1;31mValueError\u001b[0m: too many values to unpack (expected 21)"
     ]
    }
   ],
   "source": [
    "import pandas\n",
    "lines=open(\"insects.csv\", \"rt\").readlines()\n",
    "insects=[]\n",
    "\n",
    "for lin in lines[1:]:\n",
    "    uid, name, sell_price, where_how, weather, catches2unlock, spawn_rate,when_jan,when_fev,when_mar,when_apr,when_may,when_jun,when_jul,when_aug,when_sep,when_oct,when_nov,when_dec,color1,color2 = lin.split(\";\")\n",
    "    insect={\"uid\":  str(uid), \"name\": str(name), \"sell_price\": int(sell_price), \"where_how\": str(where_how),\"weather\":str(weather), \"catches2unlock\": int(catches2unlock), \"spawn_rate\": int(spawn_rate),\"when_jan\": str(when_jan),\"when_fev\": str(when_fev),\"when_mar\": str(when_mar),\"when_apr\": str(when_apr),\"when_may\": str(when_may),\"when_jun\": str(when_jun),\"when_jul\": str(when_jul),\"when_aug\": str(when_aug),\"when_sep\": str(when_sep),\"when_oct\": str(when_oct),\"when_nov\": str(when_nov),\"when_dec\": str(when_dec),\"color1\": str(color1),\"color2\": str(color2)}\n",
    "    insects.append(insect)\n",
    "print(insects.items())\n"
   ]
  },
  {
   "cell_type": "code",
   "execution_count": 8,
   "metadata": {},
   "outputs": [
    {
     "name": "stdout",
     "output_type": "stream",
     "text": [
      "[{'Unique Entry ID': 'aj95rMzdbSbvZy9A2', 'Name': 'agrias butterfly', 'Sell': 3000, 'Where/How': 'Flying near flowers', 'Weather': 'Any except rain', 'Total Catches to Unlock': 20, 'Spawn Rates': 5, 'NH Jan': nan, 'NH Feb': nan, 'NH Mar': nan, 'NH Apr': '8 AM -5 PM', 'NH May': '8 AM -5 PM', 'NH Jun': '8 AM -5 PM', 'NH Jul': '8 AM -5 PM', 'NH Aug': '8 AM -5 PM', 'NH Sep': '8 AM -5 PM', 'NH Oct': nan, 'NH Nov': nan, 'NH Dec': nan, 'Color 1': 'Pink', 'Color 2': 'Green'}, {'Unique Entry ID': 'QZpmczZu4hW2a4Rpv', 'Name': 'ant', 'Sell': 80, 'Where/How': 'On rotten turnips', 'Weather': 'Any weather', 'Total Catches to Unlock': 0, 'Spawn Rates': 0, 'NH Jan': 'All day', 'NH Feb': 'All day', 'NH Mar': 'All day', 'NH Apr': 'All day', 'NH May': 'All day', 'NH Jun': 'All day', 'NH Jul': 'All day', 'NH Aug': 'All day', 'NH Sep': 'All day', 'NH Oct': 'All day', 'NH Nov': 'All day', 'NH Dec': 'All day', 'Color 1': 'Black', 'Color 2': 'White'}, {'Unique Entry ID': 'u2GhYQJXDCQKp7AQ8', 'Name': 'Atlas moth', 'Sell': 3000, 'Where/How': 'On trees (any kind)', 'Weather': 'Any weather', 'Total Catches to Unlock': 20, 'Spawn Rates': 5, 'NH Jan': nan, 'NH Feb': nan, 'NH Mar': nan, 'NH Apr': '7 PM -4 AM', 'NH May': '7 PM - 4 AM', 'NH Jun': '7 PM -4 AM', 'NH Jul': '7 PM -4 AM', 'NH Aug': '7 PM -4 AM', 'NH Sep': '7 PM -4 AM', 'NH Oct': nan, 'NH Nov': nan, 'NH Dec': nan, 'Color 1': 'Orange', 'Color 2': 'Yellow'}, {'Unique Entry ID': 'QvxgCm82JqHsDknY4', 'Name': 'bagworm', 'Sell': 600, 'Where/How': 'Shaking trees (hardwood or cedar only)', 'Weather': 'Any weather', 'Total Catches to Unlock': 0, 'Spawn Rates': 50, 'NH Jan': 'All day', 'NH Feb': 'All day', 'NH Mar': 'All day', 'NH Apr': 'All day', 'NH May': 'All day', 'NH Jun': 'All day', 'NH Jul': 'All day', 'NH Aug': 'All day', 'NH Sep': 'All day', 'NH Oct': 'All day', 'NH Nov': 'All day', 'NH Dec': 'All day', 'Color 1': 'Brown', 'Color 2': 'Blue'}, {'Unique Entry ID': 'pCFep58D6QusMSvR7', 'Name': 'banded dragonfly', 'Sell': 4500, 'Where/How': 'Flying near water', 'Weather': 'Any except rain', 'Total Catches to Unlock': 50, 'Spawn Rates': 7, 'NH Jan': nan, 'NH Feb': nan, 'NH Mar': nan, 'NH Apr': nan, 'NH May': '8 AM -5 PM', 'NH Jun': '8 AM -5 PM', 'NH Jul': '8 AM -5 PM', 'NH Aug': '8 AM -5 PM', 'NH Sep': '8 AM -5 PM', 'NH Oct': '8 AM -5 PM', 'NH Nov': nan, 'NH Dec': nan, 'Color 1': 'Black', 'Color 2': 'Yellow'}, {'Unique Entry ID': 'd5EQqbQsip82G2CZE', 'Name': 'bell cricket', 'Sell': 430, 'Where/How': 'On the ground', 'Weather': 'Any except rain', 'Total Catches to Unlock': 0, 'Spawn Rates': 60, 'NH Jan': nan, 'NH Feb': nan, 'NH Mar': nan, 'NH Apr': nan, 'NH May': nan, 'NH Jun': nan, 'NH Jul': nan, 'NH Aug': nan, 'NH Sep': '5 PM -8 AM', 'NH Oct': '5 PM -8 AM', 'NH Nov': nan, 'NH Dec': nan, 'Color 1': 'Black', 'Color 2': 'Beige'}, {'Unique Entry ID': 'qocWy6r5RXjeThdYy', 'Name': 'blue weevil beetle', 'Sell': 800, 'Where/How': 'On palm trees', 'Weather': 'Any weather', 'Total Catches to Unlock': 0, 'Spawn Rates': 2, 'NH Jan': nan, 'NH Feb': nan, 'NH Mar': nan, 'NH Apr': nan, 'NH May': nan, 'NH Jun': nan, 'NH Jul': 'All day', 'NH Aug': 'All day', 'NH Sep': nan, 'NH Oct': nan, 'NH Nov': nan, 'NH Dec': nan, 'Color 1': 'Green', 'Color 2': 'Pink'}, {'Unique Entry ID': 'gBLRZ2J2R2wwYWFCk', 'Name': 'brown cicada', 'Sell': 250, 'Where/How': 'On hardwood/cedar trees', 'Weather': 'Any weather', 'Total Catches to Unlock': 0, 'Spawn Rates': 70, 'NH Jan': nan, 'NH Feb': nan, 'NH Mar': nan, 'NH Apr': nan, 'NH May': nan, 'NH Jun': nan, 'NH Jul': '8 AM -5 PM', 'NH Aug': '8 AM -5 PM', 'NH Sep': nan, 'NH Oct': nan, 'NH Nov': nan, 'NH Dec': nan, 'Color 1': 'Brown', 'Color 2': 'Green'}, {'Unique Entry ID': 'ubStMQwHMJJcYje38', 'Name': 'centipede', 'Sell': 300, 'Where/How': 'From hitting rocks', 'Weather': 'Any weather', 'Total Catches to Unlock': 0, 'Spawn Rates': 30, 'NH Jan': '4 PM -11 PM', 'NH Feb': '4 PM -11 PM', 'NH Mar': '4 PM -11 PM', 'NH Apr': '4 PM -11 PM', 'NH May': '4 PM -11 PM', 'NH Jun': '4 PM -11 PM', 'NH Jul': nan, 'NH Aug': nan, 'NH Sep': '4 PM -11 PM', 'NH Oct': '4 PM -11 PM', 'NH Nov': '4 PM -11 PM', 'NH Dec': '4 PM -11 PM', 'Color 1': 'Black', 'Color 2': 'Orange'}, {'Unique Entry ID': '6s3MCahAroqpjGybW', 'Name': 'cicada shell', 'Sell': 10, 'Where/How': 'On hardwood/cedar trees', 'Weather': 'Any weather', 'Total Catches to Unlock': 50, 'Spawn Rates': 1, 'NH Jan': nan, 'NH Feb': nan, 'NH Mar': nan, 'NH Apr': nan, 'NH May': nan, 'NH Jun': nan, 'NH Jul': 'All day', 'NH Aug': 'All day', 'NH Sep': nan, 'NH Oct': nan, 'NH Nov': nan, 'NH Dec': nan, 'Color 1': 'Brown', 'Color 2': 'Green'}, {'Unique Entry ID': 'QR88MPLzYxSCHWZJb', 'Name': 'citrus long-horned beetle', 'Sell': 350, 'Where/How': 'On tree stumps', 'Weather': 'Any except rain', 'Total Catches to Unlock': 0, 'Spawn Rates': 10, 'NH Jan': 'All day', 'NH Feb': 'All day', 'NH Mar': 'All day', 'NH Apr': 'All day', 'NH May': 'All day', 'NH Jun': 'All day', 'NH Jul': 'All day', 'NH Aug': 'All day', 'NH Sep': 'All day', 'NH Oct': 'All day', 'NH Nov': 'All day', 'NH Dec': 'All day', 'Color 1': 'Black', 'Color 2': 'Green'}, {'Unique Entry ID': 'vgkW2eovbpxNuGsFZ', 'Name': 'common bluebottle', 'Sell': 300, 'Where/How': 'Flying', 'Weather': 'Any except rain', 'Total Catches to Unlock': 0, 'Spawn Rates': 70, 'NH Jan': nan, 'NH Feb': nan, 'NH Mar': nan, 'NH Apr': '4 AM -7 PM', 'NH May': '4 AM -7 PM', 'NH Jun': '4 AM -7 PM', 'NH Jul': '4 AM -7 PM', 'NH Aug': '4 AM -7 PM', 'NH Sep': nan, 'NH Oct': nan, 'NH Nov': nan, 'NH Dec': nan, 'Color 1': 'Black', 'Color 2': 'Green'}, {'Unique Entry ID': 'tRJxp5N9XbwAGQHZc', 'Name': 'common butterfly', 'Sell': 160, 'Where/How': 'Flying', 'Weather': 'Any except rain', 'Total Catches to Unlock': 0, 'Spawn Rates': 60, 'NH Jan': '4 AM -7 PM', 'NH Feb': '4 AM -7 PM', 'NH Mar': '4 AM -7 PM', 'NH Apr': '4 AM -7 PM', 'NH May': '4 AM -7 PM', 'NH Jun': '4 AM -7 PM', 'NH Jul': nan, 'NH Aug': nan, 'NH Sep': '4 AM -7 PM', 'NH Oct': '4 AM -7 PM', 'NH Nov': '4 AM -7 PM', 'NH Dec': '4 AM -7 PM', 'Color 1': 'White', 'Color 2': 'Green'}, {'Unique Entry ID': 'Lr7eFJzJJZpWRWekm', 'Name': 'cricket', 'Sell': 130, 'Where/How': 'On the ground', 'Weather': 'Any except rain', 'Total Catches to Unlock': 0, 'Spawn Rates': 60, 'NH Jan': nan, 'NH Feb': nan, 'NH Mar': nan, 'NH Apr': nan, 'NH May': nan, 'NH Jun': nan, 'NH Jul': nan, 'NH Aug': nan, 'NH Sep': '5 PM -8 AM', 'NH Oct': '5 PM -8 AM', 'NH Nov': '5 PM -8 AM', 'NH Dec': nan, 'Color 1': 'Brown', 'Color 2': 'Beige'}, {'Unique Entry ID': 'moBevd7J5hwpHeLcs', 'Name': 'cyclommatus stag', 'Sell': 8000, 'Where/How': 'On palm trees', 'Weather': 'Any weather', 'Total Catches to Unlock': 100, 'Spawn Rates': 2, 'NH Jan': nan, 'NH Feb': nan, 'NH Mar': nan, 'NH Apr': nan, 'NH May': nan, 'NH Jun': nan, 'NH Jul': '5 PM -8 AM', 'NH Aug': '5 PM -8 AM', 'NH Sep': nan, 'NH Oct': nan, 'NH Nov': nan, 'NH Dec': nan, 'Color 1': 'Black', 'Color 2': 'Black'}, {'Unique Entry ID': 'pBmqsa7CyeKzyRjDT', 'Name': 'damselfly', 'Sell': 500, 'Where/How': 'Flying near water', 'Weather': 'Any except rain', 'Total Catches to Unlock': 0, 'Spawn Rates': 60, 'NH Jan': 'All day', 'NH Feb': 'All day', 'NH Mar': nan, 'NH Apr': nan, 'NH May': nan, 'NH Jun': nan, 'NH Jul': nan, 'NH Aug': nan, 'NH Sep': nan, 'NH Oct': nan, 'NH Nov': 'All day', 'NH Dec': 'All day', 'Color 1': 'Green', 'Color 2': 'Blue'}, {'Unique Entry ID': '723NiWMh4iY9RJtAM', 'Name': 'darner dragonfly', 'Sell': 230, 'Where/How': 'Flying near water', 'Weather': 'Any except rain', 'Total Catches to Unlock': 0, 'Spawn Rates': 40, 'NH Jan': nan, 'NH Feb': nan, 'NH Mar': nan, 'NH Apr': '8 AM -5 PM', 'NH May': '8 AM -5 PM', 'NH Jun': '8 AM -5 PM', 'NH Jul': '8 AM -5 PM', 'NH Aug': '8 AM -5 PM', 'NH Sep': '8 AM -5 PM', 'NH Oct': '8 AM -5 PM', 'NH Nov': nan, 'NH Dec': nan, 'Color 1': 'Green', 'Color 2': 'Green'}, {'Unique Entry ID': 'CBjt7itnPqEtNznrX', 'Name': 'diving beetle', 'Sell': 800, 'Where/How': 'On rivers/ponds', 'Weather': 'Any weather', 'Total Catches to Unlock': 0, 'Spawn Rates': 10, 'NH Jan': nan, 'NH Feb': nan, 'NH Mar': nan, 'NH Apr': nan, 'NH May': '8 AM -7 PM', 'NH Jun': '8 AM -7 PM', 'NH Jul': '8 AM -7 PM', 'NH Aug': '8 AM -7 PM', 'NH Sep': '8 AM -7 PM', 'NH Oct': nan, 'NH Nov': nan, 'NH Dec': nan, 'Color 1': 'Black', 'Color 2': 'Blue'}, {'Unique Entry ID': 'uXmtRAQgY3g596tov', 'Name': 'drone beetle', 'Sell': 200, 'Where/How': 'On trees (any kind)', 'Weather': 'Any weather', 'Total Catches to Unlock': 0, 'Spawn Rates': 40, 'NH Jan': nan, 'NH Feb': nan, 'NH Mar': nan, 'NH Apr': nan, 'NH May': nan, 'NH Jun': 'All day', 'NH Jul': 'All day', 'NH Aug': 'All day', 'NH Sep': nan, 'NH Oct': nan, 'NH Nov': nan, 'NH Dec': nan, 'Color 1': 'Green', 'Color 2': 'Blue'}, {'Unique Entry ID': 'p9RhE8wLWpHtcoq5G', 'Name': 'dung beetle', 'Sell': 3000, 'Where/How': 'Pushing snowballs', 'Weather': 'Any weather', 'Total Catches to Unlock': 0, 'Spawn Rates': 10, 'NH Jan': 'All day', 'NH Feb': 'All day', 'NH Mar': nan, 'NH Apr': nan, 'NH May': nan, 'NH Jun': nan, 'NH Jul': nan, 'NH Aug': nan, 'NH Sep': nan, 'NH Oct': nan, 'NH Nov': nan, 'NH Dec': 'All day', 'Color 1': 'Black', 'Color 2': 'Beige'}, {'Unique Entry ID': 'k2fqxdYnTF8BpHB7u', 'Name': 'earth-boring dung beetle', 'Sell': 300, 'Where/How': 'On the ground', 'Weather': 'Any weather', 'Total Catches to Unlock': 0, 'Spawn Rates': 30, 'NH Jan': nan, 'NH Feb': nan, 'NH Mar': nan, 'NH Apr': nan, 'NH May': nan, 'NH Jun': nan, 'NH Jul': 'All day', 'NH Aug': 'All day', 'NH Sep': 'All day', 'NH Oct': nan, 'NH Nov': nan, 'NH Dec': nan, 'Color 1': 'Purple', 'Color 2': 'Orange'}, {'Unique Entry ID': 'Lwkf7oQ3mcWYm6eEY', 'Name': 'emperor butterfly', 'Sell': 4000, 'Where/How': 'Flying near flowers', 'Weather': 'Any except rain', 'Total Catches to Unlock': 20, 'Spawn Rates': 5, 'NH Jan': '5 PM -8 AM', 'NH Feb': '5 PM -8 AM', 'NH Mar': '5 PM -8 AM', 'NH Apr': nan, 'NH May': nan, 'NH Jun': '5 PM -8 AM', 'NH Jul': '5 PM -8 AM', 'NH Aug': '5 PM -8 AM', 'NH Sep': '5 PM -8 AM', 'NH Oct': nan, 'NH Nov': nan, 'NH Dec': '5 PM -8 AM', 'Color 1': 'Blue', 'Color 2': 'Orange'}, {'Unique Entry ID': 'kzX4apD9C3Nq8khzR', 'Name': 'evening cicada', 'Sell': 550, 'Where/How': 'On hardwood/cedar trees', 'Weather': 'Any weather', 'Total Catches to Unlock': 0, 'Spawn Rates': 50, 'NH Jan': nan, 'NH Feb': nan, 'NH Mar': nan, 'NH Apr': nan, 'NH May': nan, 'NH Jun': nan, 'NH Jul': '4 AM -8 AM; 4 PM -7 PM', 'NH Aug': '4 AM -8 AM; 4 PM -7 PM', 'NH Sep': nan, 'NH Oct': nan, 'NH Nov': nan, 'NH Dec': nan, 'Color 1': 'Black', 'Color 2': 'Orange'}, {'Unique Entry ID': 'PgiwPqykwafyz5EL6', 'Name': 'firefly', 'Sell': 300, 'Where/How': 'Flying near water', 'Weather': 'Any except rain', 'Total Catches to Unlock': 0, 'Spawn Rates': 200, 'NH Jan': nan, 'NH Feb': nan, 'NH Mar': nan, 'NH Apr': nan, 'NH May': nan, 'NH Jun': '7 PM -4 AM', 'NH Jul': nan, 'NH Aug': nan, 'NH Sep': nan, 'NH Oct': nan, 'NH Nov': nan, 'NH Dec': nan, 'Color 1': 'Black', 'Color 2': 'Blue'}, {'Unique Entry ID': 'QzDywoJEAJDcjGfEF', 'Name': 'flea', 'Sell': 70, 'Where/How': 'On villagers', 'Weather': 'Any weather', 'Total Catches to Unlock': 0, 'Spawn Rates': 7, 'NH Jan': nan, 'NH Feb': nan, 'NH Mar': nan, 'NH Apr': 'All day', 'NH May': 'All day', 'NH Jun': 'All day', 'NH Jul': 'All day', 'NH Aug': 'All day', 'NH Sep': 'All day', 'NH Oct': 'All day', 'NH Nov': 'All day', 'NH Dec': nan, 'Color 1': 'Brown', 'Color 2': 'White'}, {'Unique Entry ID': 'xdBmuMgXJ6jGxpabK', 'Name': 'fly', 'Sell': 60, 'Where/How': 'Flying near trash (boots, tires, cans) or rotten turnips', 'Weather': 'Any weather', 'Total Catches to Unlock': 0, 'Spawn Rates': 0, 'NH Jan': 'All day', 'NH Feb': 'All day', 'NH Mar': 'All day', 'NH Apr': 'All day', 'NH May': 'All day', 'NH Jun': 'All day', 'NH Jul': 'All day', 'NH Aug': 'All day', 'NH Sep': 'All day', 'NH Oct': 'All day', 'NH Nov': 'All day', 'NH Dec': 'All day', 'Color 1': 'Black', 'Color 2': 'White'}, {'Unique Entry ID': 'nPm2r7idGshQW87MN', 'Name': 'giant cicada', 'Sell': 500, 'Where/How': 'On hardwood/cedar trees', 'Weather': 'Any weather', 'Total Catches to Unlock': 20, 'Spawn Rates': 50, 'NH Jan': nan, 'NH Feb': nan, 'NH Mar': nan, 'NH Apr': nan, 'NH May': nan, 'NH Jun': nan, 'NH Jul': '8 AM -5 PM', 'NH Aug': '8 AM -5 PM', 'NH Sep': nan, 'NH Oct': nan, 'NH Nov': nan, 'NH Dec': nan, 'Color 1': 'Black', 'Color 2': 'Yellow'}, {'Unique Entry ID': 'KhrTLzayFz23zz2kn', 'Name': 'giant stag', 'Sell': 10000, 'Where/How': 'On trees (any kind)', 'Weather': 'Any weather', 'Total Catches to Unlock': 50, 'Spawn Rates': 5, 'NH Jan': nan, 'NH Feb': nan, 'NH Mar': nan, 'NH Apr': nan, 'NH May': nan, 'NH Jun': nan, 'NH Jul': '11 PM -8 AM', 'NH Aug': '11 PM -8 AM', 'NH Sep': nan, 'NH Oct': nan, 'NH Nov': nan, 'NH Dec': nan, 'Color 1': 'Black', 'Color 2': 'Black'}, {'Unique Entry ID': 'ZsDdBvqAjZMG8EQkZ', 'Name': 'giant water bug', 'Sell': 2000, 'Where/How': 'On rivers/ponds', 'Weather': 'Any weather', 'Total Catches to Unlock': 50, 'Spawn Rates': 5, 'NH Jan': nan, 'NH Feb': nan, 'NH Mar': nan, 'NH Apr': '7 PM -8 AM', 'NH May': '7 PM -8 AM', 'NH Jun': '7 PM -8 AM', 'NH Jul': '7 PM -8 AM', 'NH Aug': '7 PM -8 AM', 'NH Sep': '7 PM -8 AM', 'NH Oct': nan, 'NH Nov': nan, 'NH Dec': nan, 'Color 1': 'Brown', 'Color 2': 'Blue'}, {'Unique Entry ID': 'PSChjzMhGwhnsHTs4', 'Name': 'giraffe stag', 'Sell': 12000, 'Where/How': 'On palm trees', 'Weather': 'Any weather', 'Total Catches to Unlock': 100, 'Spawn Rates': 1, 'NH Jan': nan, 'NH Feb': nan, 'NH Mar': nan, 'NH Apr': nan, 'NH May': nan, 'NH Jun': nan, 'NH Jul': '5 PM -8 AM', 'NH Aug': '5 PM -8 AM', 'NH Sep': nan, 'NH Oct': nan, 'NH Nov': nan, 'NH Dec': nan, 'Color 1': 'Black', 'Color 2': 'Black'}, {'Unique Entry ID': '2C8cSphidFCBPxYEe', 'Name': 'golden stag', 'Sell': 12000, 'Where/How': 'On palm trees', 'Weather': 'Any weather', 'Total Catches to Unlock': 100, 'Spawn Rates': 1, 'NH Jan': nan, 'NH Feb': nan, 'NH Mar': nan, 'NH Apr': nan, 'NH May': nan, 'NH Jun': nan, 'NH Jul': '5 PM -8 AM', 'NH Aug': '5 PM -8 AM', 'NH Sep': nan, 'NH Oct': nan, 'NH Nov': nan, 'NH Dec': nan, 'Color 1': 'Black', 'Color 2': 'Yellow'}, {'Unique Entry ID': 'wZQMZfhtRyPFAapmF', 'Name': 'goliath beetle', 'Sell': 8000, 'Where/How': 'On palm trees', 'Weather': 'Any weather', 'Total Catches to Unlock': 100, 'Spawn Rates': 2, 'NH Jan': nan, 'NH Feb': nan, 'NH Mar': nan, 'NH Apr': nan, 'NH May': nan, 'NH Jun': '5 PM -8 AM', 'NH Jul': '5 PM -8 AM', 'NH Aug': '5 PM -8 AM', 'NH Sep': '5 PM -8 AM', 'NH Oct': nan, 'NH Nov': nan, 'NH Dec': nan, 'Color 1': 'Red', 'Color 2': 'Black'}, {'Unique Entry ID': 'zkzSLJPkkcwXwShKc', 'Name': 'grasshopper', 'Sell': 160, 'Where/How': 'On the ground', 'Weather': 'Any except rain', 'Total Catches to Unlock': 0, 'Spawn Rates': 60, 'NH Jan': nan, 'NH Feb': nan, 'NH Mar': nan, 'NH Apr': nan, 'NH May': nan, 'NH Jun': nan, 'NH Jul': '8 AM -5 PM', 'NH Aug': '8 AM -5 PM', 'NH Sep': '8 AM -5 PM', 'NH Oct': nan, 'NH Nov': nan, 'NH Dec': nan, 'Color 1': 'Green', 'Color 2': 'Beige'}, {'Unique Entry ID': 'ZSre7sheZoRqsJwHQ', 'Name': 'great purple emperor', 'Sell': 3000, 'Where/How': 'Flying near flowers', 'Weather': 'Any except rain', 'Total Catches to Unlock': 50, 'Spawn Rates': 5, 'NH Jan': nan, 'NH Feb': nan, 'NH Mar': nan, 'NH Apr': nan, 'NH May': '4 AM -7 PM', 'NH Jun': '4 AM -7 PM', 'NH Jul': '4 AM -7 PM', 'NH Aug': '4 AM -7 PM', 'NH Sep': nan, 'NH Oct': nan, 'NH Nov': nan, 'NH Dec': nan, 'Color 1': 'Purple', 'Color 2': 'Orange'}, {'Unique Entry ID': 'TzbsfYgE4k2qo7fHN', 'Name': 'hermit crab', 'Sell': 1000, 'Where/How': 'Disguised on shoreline', 'Weather': 'Any weather', 'Total Catches to Unlock': 0, 'Spawn Rates': 25, 'NH Jan': '7 PM -8 AM', 'NH Feb': '7 PM -8 AM', 'NH Mar': '7 PM -8 AM', 'NH Apr': '7 PM -8 AM', 'NH May': '7 PM -8 AM', 'NH Jun': '7 PM -8 AM', 'NH Jul': '7 PM -8 AM', 'NH Aug': '7 PM -8 AM', 'NH Sep': '7 PM -8 AM', 'NH Oct': '7 PM -8 AM', 'NH Nov': '7 PM -8 AM', 'NH Dec': '7 PM -8 AM', 'Color 1': 'Beige', 'Color 2': 'Pink'}, {'Unique Entry ID': 'yeWiAiqDRwinvumDm', 'Name': 'honeybee', 'Sell': 200, 'Where/How': 'Flying near flowers', 'Weather': 'Any except rain', 'Total Catches to Unlock': 0, 'Spawn Rates': 30, 'NH Jan': nan, 'NH Feb': nan, 'NH Mar': '8 AM -5 PM', 'NH Apr': '8 AM -5 PM', 'NH May': '8 AM -5 PM', 'NH Jun': '8 AM -5 PM', 'NH Jul': '8 AM -5 PM', 'NH Aug': nan, 'NH Sep': nan, 'NH Oct': nan, 'NH Nov': nan, 'NH Dec': nan, 'Color 1': 'Yellow', 'Color 2': 'Blue'}, {'Unique Entry ID': 'S93y8gxrSHFNCFmwJ', 'Name': 'horned atlas', 'Sell': 8000, 'Where/How': 'On palm trees', 'Weather': 'Any weather', 'Total Catches to Unlock': 100, 'Spawn Rates': 2, 'NH Jan': nan, 'NH Feb': nan, 'NH Mar': nan, 'NH Apr': nan, 'NH May': nan, 'NH Jun': nan, 'NH Jul': '5 PM -8 AM', 'NH Aug': '5 PM -8 AM', 'NH Sep': nan, 'NH Oct': nan, 'NH Nov': nan, 'NH Dec': nan, 'Color 1': 'Black', 'Color 2': 'Black'}, {'Unique Entry ID': 'zaG8qsKLpbTjysx7D', 'Name': 'horned dynastid', 'Sell': 1350, 'Where/How': 'On trees (any kind)', 'Weather': 'Any weather', 'Total Catches to Unlock': 0, 'Spawn Rates': 35, 'NH Jan': nan, 'NH Feb': nan, 'NH Mar': nan, 'NH Apr': nan, 'NH May': nan, 'NH Jun': nan, 'NH Jul': '5 PM -8 AM', 'NH Aug': '5 PM -8 AM', 'NH Sep': nan, 'NH Oct': nan, 'NH Nov': nan, 'NH Dec': nan, 'Color 1': 'Brown', 'Color 2': 'Black'}, {'Unique Entry ID': 'M7SHXNEMf78nJD6fE', 'Name': 'horned elephant', 'Sell': 8000, 'Where/How': 'On palm trees', 'Weather': 'Any weather', 'Total Catches to Unlock': 100, 'Spawn Rates': 2, 'NH Jan': nan, 'NH Feb': nan, 'NH Mar': nan, 'NH Apr': nan, 'NH May': nan, 'NH Jun': nan, 'NH Jul': '5 PM -8 AM', 'NH Aug': '5 PM -8 AM', 'NH Sep': nan, 'NH Oct': nan, 'NH Nov': nan, 'NH Dec': nan, 'Color 1': 'Beige', 'Color 2': 'Black'}, {'Unique Entry ID': 'TqhEomNEMDZ2wcTpk', 'Name': 'horned hercules', 'Sell': 12000, 'Where/How': 'On palm trees', 'Weather': 'Any weather', 'Total Catches to Unlock': 100, 'Spawn Rates': 1, 'NH Jan': nan, 'NH Feb': nan, 'NH Mar': nan, 'NH Apr': nan, 'NH May': nan, 'NH Jun': nan, 'NH Jul': '5 PM -8 AM', 'NH Aug': '5 PM -8 AM', 'NH Sep': nan, 'NH Oct': nan, 'NH Nov': nan, 'NH Dec': nan, 'Color 1': 'Yellow', 'Color 2': 'Black'}, {'Unique Entry ID': 'TYFowxRG4ydcvotkQ', 'Name': 'jewel beetle', 'Sell': 2400, 'Where/How': 'On tree stumps', 'Weather': 'Any except rain', 'Total Catches to Unlock': 20, 'Spawn Rates': 5, 'NH Jan': nan, 'NH Feb': nan, 'NH Mar': nan, 'NH Apr': 'All day', 'NH May': 'All day', 'NH Jun': 'All day', 'NH Jul': 'All day', 'NH Aug': 'All day', 'NH Sep': nan, 'NH Oct': nan, 'NH Nov': nan, 'NH Dec': nan, 'Color 1': 'Green', 'Color 2': 'Black'}, {'Unique Entry ID': 'pYSSbvXzkuFneRvQ7', 'Name': 'ladybug', 'Sell': 200, 'Where/How': 'On flowers', 'Weather': 'Any except rain', 'Total Catches to Unlock': 0, 'Spawn Rates': 40, 'NH Jan': nan, 'NH Feb': nan, 'NH Mar': '8 AM -5 PM', 'NH Apr': '8 AM -5 PM', 'NH May': '8 AM -5 PM', 'NH Jun': '8 AM -5 PM', 'NH Jul': nan, 'NH Aug': nan, 'NH Sep': nan, 'NH Oct': '8 AM -5 PM', 'NH Nov': nan, 'NH Dec': nan, 'Color 1': 'Red', 'Color 2': 'Green'}, {'Unique Entry ID': 'Q57sgq4hQTNZAqWXj', 'Name': 'long locust', 'Sell': 200, 'Where/How': 'On the ground', 'Weather': 'Any weather', 'Total Catches to Unlock': 0, 'Spawn Rates': 50, 'NH Jan': nan, 'NH Feb': nan, 'NH Mar': nan, 'NH Apr': '8 AM -7 PM', 'NH May': '8 AM -7 PM', 'NH Jun': '8 AM -7 PM', 'NH Jul': '8 AM -7 PM', 'NH Aug': '8 AM -7 PM', 'NH Sep': '8 AM -7 PM', 'NH Oct': '8 AM -7 PM', 'NH Nov': '8 AM -7 PM', 'NH Dec': nan, 'Color 1': 'Green', 'Color 2': 'Blue'}, {'Unique Entry ID': 'EFWMygLqnJinFoXSW', 'Name': 'Madagascan sunset moth', 'Sell': 2500, 'Where/How': 'Flying near flowers', 'Weather': 'Any except rain', 'Total Catches to Unlock': 20, 'Spawn Rates': 5, 'NH Jan': nan, 'NH Feb': nan, 'NH Mar': nan, 'NH Apr': '8 AM -4 PM', 'NH May': '8 AM -4 PM', 'NH Jun': '8 AM -4 PM', 'NH Jul': '8 AM -4 PM', 'NH Aug': '8 AM -4 PM', 'NH Sep': '8 AM -4 PM', 'NH Oct': nan, 'NH Nov': nan, 'NH Dec': nan, 'Color 1': 'Green', 'Color 2': 'Pink'}, {'Unique Entry ID': 'zvr84Jvf4s6K23XJ5', 'Name': 'man-faced stink bug', 'Sell': 1000, 'Where/How': 'On flowers', 'Weather': 'Any except rain', 'Total Catches to Unlock': 20, 'Spawn Rates': 20, 'NH Jan': nan, 'NH Feb': nan, 'NH Mar': '7 PM -8 AM', 'NH Apr': '7 PM -8 AM', 'NH May': '7 PM -8 AM', 'NH Jun': '7 PM -8 AM', 'NH Jul': '7 PM -8 AM', 'NH Aug': '7 PM -8 AM', 'NH Sep': '7 PM -8 AM', 'NH Oct': '7 PM -8 AM', 'NH Nov': nan, 'NH Dec': nan, 'Color 1': 'Black', 'Color 2': 'Orange'}, {'Unique Entry ID': 'Qko2mfz7SaESpMcCv', 'Name': 'mantis', 'Sell': 430, 'Where/How': 'On flowers', 'Weather': 'Any except rain', 'Total Catches to Unlock': 0, 'Spawn Rates': 30, 'NH Jan': nan, 'NH Feb': nan, 'NH Mar': '8 AM -5 PM', 'NH Apr': '8 AM -5 PM', 'NH May': '8 AM -5 PM', 'NH Jun': '8 AM -5 PM', 'NH Jul': '8 AM -5 PM', 'NH Aug': '8 AM -5 PM', 'NH Sep': '8 AM -5 PM', 'NH Oct': '8 AM -5 PM', 'NH Nov': '8 AM -5 PM', 'NH Dec': nan, 'Color 1': 'Green', 'Color 2': 'Green'}, {'Unique Entry ID': 'dkGagcjd7aZwFEszw', 'Name': 'migratory locust', 'Sell': 600, 'Where/How': 'On the ground', 'Weather': 'Any weather', 'Total Catches to Unlock': 20, 'Spawn Rates': 10, 'NH Jan': nan, 'NH Feb': nan, 'NH Mar': nan, 'NH Apr': nan, 'NH May': nan, 'NH Jun': nan, 'NH Jul': nan, 'NH Aug': '8 AM -7 PM', 'NH Sep': '8 AM -7 PM', 'NH Oct': '8 AM -7 PM', 'NH Nov': '8 AM -7 PM', 'NH Dec': nan, 'Color 1': 'Green', 'Color 2': 'Orange'}, {'Unique Entry ID': 'qRGGm6MfuP4Aqdk3M', 'Name': 'miyama stag', 'Sell': 1000, 'Where/How': 'On trees (any kind)', 'Weather': 'Any weather', 'Total Catches to Unlock': 0, 'Spawn Rates': 35, 'NH Jan': nan, 'NH Feb': nan, 'NH Mar': nan, 'NH Apr': nan, 'NH May': nan, 'NH Jun': nan, 'NH Jul': 'All day', 'NH Aug': 'All day', 'NH Sep': nan, 'NH Oct': nan, 'NH Nov': nan, 'NH Dec': nan, 'Color 1': 'Black', 'Color 2': 'Black'}, {'Unique Entry ID': 'HMWPGeeKw9LP6ucSq', 'Name': 'mole cricket', 'Sell': 500, 'Where/How': 'Underground (dig where noise is loudest)', 'Weather': 'Any weather', 'Total Catches to Unlock': 0, 'Spawn Rates': 30, 'NH Jan': 'All day', 'NH Feb': 'All day', 'NH Mar': 'All day', 'NH Apr': 'All day', 'NH May': 'All day', 'NH Jun': nan, 'NH Jul': nan, 'NH Aug': nan, 'NH Sep': nan, 'NH Oct': nan, 'NH Nov': 'All day', 'NH Dec': 'All day', 'Color 1': 'Brown', 'Color 2': 'Yellow'}, {'Unique Entry ID': 'BJPKSZMZ2tkLXkWjL', 'Name': 'monarch butterfly', 'Sell': 140, 'Where/How': 'Flying near flowers', 'Weather': 'Any except rain', 'Total Catches to Unlock': 0, 'Spawn Rates': 70, 'NH Jan': nan, 'NH Feb': nan, 'NH Mar': nan, 'NH Apr': nan, 'NH May': nan, 'NH Jun': nan, 'NH Jul': nan, 'NH Aug': nan, 'NH Sep': '4 AM - 5 PM', 'NH Oct': '4 AM - 5 PM', 'NH Nov': '4 AM - 5 PM', 'NH Dec': nan, 'Color 1': 'Orange', 'Color 2': 'Blue'}, {'Unique Entry ID': '3mMZ74qpWWnoizJHh', 'Name': 'mosquito', 'Sell': 130, 'Where/How': 'Flying', 'Weather': 'Any except rain', 'Total Catches to Unlock': 0, 'Spawn Rates': 50, 'NH Jan': nan, 'NH Feb': nan, 'NH Mar': nan, 'NH Apr': nan, 'NH May': nan, 'NH Jun': '5 PM -4 AM', 'NH Jul': '5 PM -4 AM', 'NH Aug': '5 PM -4 AM', 'NH Sep': '5 PM -4 AM', 'NH Oct': nan, 'NH Nov': nan, 'NH Dec': nan, 'Color 1': 'Black', 'Color 2': 'White'}, {'Unique Entry ID': '7Kd97rqbYBuzuCHgf', 'Name': 'moth', 'Sell': 130, 'Where/How': 'Flying near light sources', 'Weather': 'Any except rain', 'Total Catches to Unlock': 0, 'Spawn Rates': 25, 'NH Jan': '7 PM -4 AM', 'NH Feb': '7 PM -4 AM', 'NH Mar': '7 PM -4 AM', 'NH Apr': '7 PM -4 AM', 'NH May': '7 PM -4 AM', 'NH Jun': '7 PM -4 AM', 'NH Jul': '7 PM -4 AM', 'NH Aug': '7 PM -4 AM', 'NH Sep': '7 PM -4 AM', 'NH Oct': '7 PM -4 AM', 'NH Nov': '7 PM -4 AM', 'NH Dec': '7 PM -4 AM', 'Color 1': 'Beige', 'Color 2': 'Yellow'}, {'Unique Entry ID': '9b4v6nMrrThHEtNbB', 'Name': 'orchid mantis', 'Sell': 2400, 'Where/How': 'On white flowers', 'Weather': 'Any except rain', 'Total Catches to Unlock': 20, 'Spawn Rates': 15, 'NH Jan': nan, 'NH Feb': nan, 'NH Mar': '8 AM -5 PM', 'NH Apr': '8 AM -5 PM', 'NH May': '8 AM -5 PM', 'NH Jun': '8 AM -5 PM', 'NH Jul': '8 AM -5 PM', 'NH Aug': '8 AM -5 PM', 'NH Sep': '8 AM -5 PM', 'NH Oct': '8 AM -5 PM', 'NH Nov': '8 AM -5 PM', 'NH Dec': nan, 'Color 1': 'White', 'Color 2': 'Pink'}, {'Unique Entry ID': 'hzwridDJE99rPHLrZ', 'Name': 'paper kite butterfly', 'Sell': 1000, 'Where/How': 'Flying near flowers', 'Weather': 'Any except rain', 'Total Catches to Unlock': 0, 'Spawn Rates': 20, 'NH Jan': '8 AM -7 PM', 'NH Feb': '8 AM -7 PM', 'NH Mar': '8 AM -7 PM', 'NH Apr': '8 AM -7 PM', 'NH May': '8 AM -7 PM', 'NH Jun': '8 AM -7 PM', 'NH Jul': '8 AM -7 PM', 'NH Aug': '8 AM -7 PM', 'NH Sep': '8 AM -7 PM', 'NH Oct': '8 AM -7 PM', 'NH Nov': '8 AM -7 PM', 'NH Dec': '8 AM -7 PM', 'Color 1': 'White', 'Color 2': 'Yellow'}, {'Unique Entry ID': 'rguKzmnRkGmBMKzyE', 'Name': 'peacock butterfly', 'Sell': 2500, 'Where/How': 'Flying near blue/purple/black flowers', 'Weather': 'Any except rain', 'Total Catches to Unlock': 20, 'Spawn Rates': 5, 'NH Jan': nan, 'NH Feb': nan, 'NH Mar': '4 AM -7 PM', 'NH Apr': '4 AM -7 PM', 'NH May': '4 AM -7 PM', 'NH Jun': '4 AM -7 PM', 'NH Jul': nan, 'NH Aug': nan, 'NH Sep': nan, 'NH Oct': nan, 'NH Nov': nan, 'NH Dec': nan, 'Color 1': 'Green', 'Color 2': 'Blue'}, {'Unique Entry ID': 'SGHXhcTzaNJD2z926', 'Name': 'pill bug', 'Sell': 250, 'Where/How': 'From hitting rocks', 'Weather': 'Any weather', 'Total Catches to Unlock': 0, 'Spawn Rates': 50, 'NH Jan': '11 PM -4 PM', 'NH Feb': '11 PM -4 PM', 'NH Mar': '11 PM -4 PM', 'NH Apr': '11 PM -4 PM', 'NH May': '11 PM -4 PM', 'NH Jun': '11 PM -4 PM', 'NH Jul': nan, 'NH Aug': nan, 'NH Sep': '11 PM -4 PM', 'NH Oct': '11 PM -4 PM', 'NH Nov': '11 PM -4 PM', 'NH Dec': '11 PM -4 PM', 'Color 1': 'Black', 'Color 2': 'Blue'}, {'Unique Entry ID': 'eSBNwiuZforpxNYem', 'Name': 'pondskater', 'Sell': 130, 'Where/How': 'On rivers/ponds', 'Weather': 'Any weather', 'Total Catches to Unlock': 0, 'Spawn Rates': 30, 'NH Jan': nan, 'NH Feb': nan, 'NH Mar': nan, 'NH Apr': nan, 'NH May': '8 AM -7 PM', 'NH Jun': '8 AM -7 PM', 'NH Jul': '8 AM -7 PM', 'NH Aug': '8 AM -7 PM', 'NH Sep': '8 AM -7 PM', 'NH Oct': nan, 'NH Nov': nan, 'NH Dec': nan, 'Color 1': 'Black', 'Color 2': 'Blue'}, {'Unique Entry ID': 'PbNXeN9GZuJuow7jv', 'Name': \"Queen Alexandra's birdwing\", 'Sell': 4000, 'Where/How': 'Flying near flowers', 'Weather': 'Any except rain', 'Total Catches to Unlock': 50, 'Spawn Rates': 5, 'NH Jan': nan, 'NH Feb': nan, 'NH Mar': nan, 'NH Apr': nan, 'NH May': '8 AM -4 PM', 'NH Jun': '8 AM -4 PM', 'NH Jul': '8 AM -4 PM', 'NH Aug': '8 AM -4 PM', 'NH Sep': '8 AM -4 PM', 'NH Oct': nan, 'NH Nov': nan, 'NH Dec': nan, 'Color 1': 'Green', 'Color 2': 'Pink'}, {'Unique Entry ID': 'Egfv6BDtFMeGZPmfh', 'Name': 'rainbow stag', 'Sell': 6000, 'Where/How': 'On trees (any kind)', 'Weather': 'Any weather', 'Total Catches to Unlock': 50, 'Spawn Rates': 7, 'NH Jan': nan, 'NH Feb': nan, 'NH Mar': nan, 'NH Apr': nan, 'NH May': nan, 'NH Jun': '7 PM -8 AM', 'NH Jul': '7 PM -8 AM', 'NH Aug': '7 PM -8 AM', 'NH Sep': '7 PM -8 AM', 'NH Oct': nan, 'NH Nov': nan, 'NH Dec': nan, 'Color 1': 'Brown', 'Color 2': 'Black'}, {'Unique Entry ID': 'gLpHgXT4pPXP4XfWQ', 'Name': \"Rajah Brooke's birdwing\", 'Sell': 2500, 'Where/How': 'Flying near flowers', 'Weather': 'Any except rain', 'Total Catches to Unlock': 20, 'Spawn Rates': 5, 'NH Jan': '8 AM -5 PM', 'NH Feb': '8 AM -5 PM', 'NH Mar': nan, 'NH Apr': '8 AM -5 PM', 'NH May': '8 AM -5 PM', 'NH Jun': '8 AM -5 PM', 'NH Jul': '8 AM -5 PM', 'NH Aug': '8 AM -5 PM', 'NH Sep': '8 AM -5 PM', 'NH Oct': nan, 'NH Nov': nan, 'NH Dec': '8 AM -5 PM', 'Color 1': 'Green', 'Color 2': 'Pink'}, {'Unique Entry ID': 'PKSHvkPphXteXHKuG', 'Name': 'red dragonfly', 'Sell': 180, 'Where/How': 'Flying near water', 'Weather': 'Any except rain', 'Total Catches to Unlock': 0, 'Spawn Rates': 80, 'NH Jan': nan, 'NH Feb': nan, 'NH Mar': nan, 'NH Apr': nan, 'NH May': nan, 'NH Jun': nan, 'NH Jul': nan, 'NH Aug': nan, 'NH Sep': '8 AM -7 PM', 'NH Oct': '8 AM -7 PM', 'NH Nov': nan, 'NH Dec': nan, 'Color 1': 'Red', 'Color 2': 'Orange'}, {'Unique Entry ID': 'ZxXDxrgPvXEHz24Ni', 'Name': 'rice grasshopper', 'Sell': 400, 'Where/How': 'On the ground', 'Weather': 'Any weather', 'Total Catches to Unlock': 0, 'Spawn Rates': 20, 'NH Jan': nan, 'NH Feb': nan, 'NH Mar': nan, 'NH Apr': nan, 'NH May': nan, 'NH Jun': nan, 'NH Jul': nan, 'NH Aug': '8 AM -7 PM', 'NH Sep': '8 AM -7 PM', 'NH Oct': '8 AM -7 PM', 'NH Nov': '8 AM -7 PM', 'NH Dec': nan, 'Color 1': 'Green', 'Color 2': 'Yellow'}, {'Unique Entry ID': 'cd5ymnRmRvT4n4yjB', 'Name': 'robust cicada', 'Sell': 300, 'Where/How': 'On hardwood/cedar trees', 'Weather': 'Any weather', 'Total Catches to Unlock': 0, 'Spawn Rates': 70, 'NH Jan': nan, 'NH Feb': nan, 'NH Mar': nan, 'NH Apr': nan, 'NH May': nan, 'NH Jun': nan, 'NH Jul': '8 AM -5 PM', 'NH Aug': '8 AM -5 PM', 'NH Sep': nan, 'NH Oct': nan, 'NH Nov': nan, 'NH Dec': nan, 'Color 1': 'Black', 'Color 2': 'Blue'}, {'Unique Entry ID': 'MSTA9vdJmGoDDADrF', 'Name': 'rosalia batesi beetle', 'Sell': 3000, 'Where/How': 'On tree stumps', 'Weather': 'Any except rain', 'Total Catches to Unlock': 20, 'Spawn Rates': 2, 'NH Jan': nan, 'NH Feb': nan, 'NH Mar': nan, 'NH Apr': nan, 'NH May': 'All day', 'NH Jun': 'All day', 'NH Jul': 'All day', 'NH Aug': 'All day', 'NH Sep': 'All day', 'NH Oct': nan, 'NH Nov': nan, 'NH Dec': nan, 'Color 1': 'Blue', 'Color 2': 'Black'}, {'Unique Entry ID': 'YQq3iSiBcBAHTWxc2', 'Name': 'saw stag', 'Sell': 2000, 'Where/How': 'On trees (any kind)', 'Weather': 'Any weather', 'Total Catches to Unlock': 0, 'Spawn Rates': 20, 'NH Jan': nan, 'NH Feb': nan, 'NH Mar': nan, 'NH Apr': nan, 'NH May': nan, 'NH Jun': nan, 'NH Jul': 'All day', 'NH Aug': 'All day', 'NH Sep': nan, 'NH Oct': nan, 'NH Nov': nan, 'NH Dec': nan, 'Color 1': 'Brown', 'Color 2': 'Black'}, {'Unique Entry ID': '2HXdFD8s6BmYYMf4u', 'Name': 'scarab beetle', 'Sell': 10000, 'Where/How': 'On trees (any kind)', 'Weather': 'Any weather', 'Total Catches to Unlock': 50, 'Spawn Rates': 3, 'NH Jan': nan, 'NH Feb': nan, 'NH Mar': nan, 'NH Apr': nan, 'NH May': nan, 'NH Jun': nan, 'NH Jul': '11 PM -8 AM', 'NH Aug': '11 PM -8 AM', 'NH Sep': nan, 'NH Oct': nan, 'NH Nov': nan, 'NH Dec': nan, 'Color 1': 'Black', 'Color 2': 'Beige'}, {'Unique Entry ID': 'xMzHsHbjvvicZvYxg', 'Name': 'scorpion', 'Sell': 8000, 'Where/How': 'On the ground', 'Weather': 'Any weather', 'Total Catches to Unlock': 0, 'Spawn Rates': 2, 'NH Jan': nan, 'NH Feb': nan, 'NH Mar': nan, 'NH Apr': nan, 'NH May': '7 PM -4 AM', 'NH Jun': '7 PM -4 AM', 'NH Jul': '7 PM -4 AM', 'NH Aug': '7 PM -4 AM', 'NH Sep': '7 PM -4 AM', 'NH Oct': '7 PM -4 AM', 'NH Nov': nan, 'NH Dec': nan, 'Color 1': 'Black', 'Color 2': 'Black'}, {'Unique Entry ID': 'rDNLeQnmJQGxsHpmL', 'Name': 'snail', 'Sell': 250, 'Where/How': 'On rocks/bushes', 'Weather': 'Rain only', 'Total Catches to Unlock': 0, 'Spawn Rates': 20, 'NH Jan': 'All day', 'NH Feb': 'All day', 'NH Mar': 'All day', 'NH Apr': 'All day', 'NH May': 'All day', 'NH Jun': 'All day', 'NH Jul': 'All day', 'NH Aug': 'All day', 'NH Sep': 'All day', 'NH Oct': 'All day', 'NH Nov': 'All day', 'NH Dec': 'All day', 'Color 1': 'Beige', 'Color 2': 'Green'}, {'Unique Entry ID': 's2u8kDoMQx7GbAJTR', 'Name': 'spider', 'Sell': 600, 'Where/How': 'Shaking trees (hardwood or cedar only)', 'Weather': 'Any weather', 'Total Catches to Unlock': 0, 'Spawn Rates': 30, 'NH Jan': '7 PM -8 AM', 'NH Feb': '7 PM -8 AM', 'NH Mar': '7 PM -8 AM', 'NH Apr': '7 PM -8 AM', 'NH May': '7 PM -8 AM', 'NH Jun': '7 PM -8 AM', 'NH Jul': '7 PM -8 AM', 'NH Aug': '7 PM -8 AM', 'NH Sep': '7 PM -8 AM', 'NH Oct': '7 PM -8 AM', 'NH Nov': '7 PM -8 AM', 'NH Dec': '7 PM -8 AM', 'Color 1': 'Yellow', 'Color 2': 'Orange'}, {'Unique Entry ID': '4u5GZ4z3CyaHhMgqj', 'Name': 'stinkbug', 'Sell': 120, 'Where/How': 'On flowers', 'Weather': 'Any except rain', 'Total Catches to Unlock': 0, 'Spawn Rates': 40, 'NH Jan': nan, 'NH Feb': nan, 'NH Mar': 'All day', 'NH Apr': 'All day', 'NH May': 'All day', 'NH Jun': 'All day', 'NH Jul': 'All day', 'NH Aug': 'All day', 'NH Sep': 'All day', 'NH Oct': 'All day', 'NH Nov': nan, 'NH Dec': nan, 'Color 1': 'Green', 'Color 2': 'Yellow'}, {'Unique Entry ID': '4mto3ZvrZYpJxbm4c', 'Name': 'tarantula', 'Sell': 8000, 'Where/How': 'On the ground', 'Weather': 'Any weather', 'Total Catches to Unlock': 0, 'Spawn Rates': 2, 'NH Jan': '7 PM -4 AM', 'NH Feb': '7 PM -4 AM', 'NH Mar': '7 PM -4 AM', 'NH Apr': '7 PM -4 AM', 'NH May': nan, 'NH Jun': nan, 'NH Jul': nan, 'NH Aug': nan, 'NH Sep': nan, 'NH Oct': nan, 'NH Nov': '7 PM -4 AM', 'NH Dec': '7 PM -4 AM', 'Color 1': 'Brown', 'Color 2': 'Black'}, {'Unique Entry ID': 'zzGvu3797KnMb4LCD', 'Name': 'tiger beetle', 'Sell': 1500, 'Where/How': 'On the ground', 'Weather': 'Any except rain', 'Total Catches to Unlock': 20, 'Spawn Rates': 15, 'NH Jan': nan, 'NH Feb': 'All day', 'NH Mar': 'All day', 'NH Apr': 'All day', 'NH May': 'All day', 'NH Jun': 'All day', 'NH Jul': 'All day', 'NH Aug': 'All day', 'NH Sep': 'All day', 'NH Oct': 'All day', 'NH Nov': nan, 'NH Dec': nan, 'Color 1': 'Green', 'Color 2': 'Yellow'}, {'Unique Entry ID': 'GcSpepwg536mYnNuu', 'Name': 'tiger butterfly', 'Sell': 240, 'Where/How': 'Flying', 'Weather': 'Any except rain', 'Total Catches to Unlock': 0, 'Spawn Rates': 40, 'NH Jan': nan, 'NH Feb': nan, 'NH Mar': '4 AM -7 PM', 'NH Apr': '4 AM -7 PM', 'NH May': '4 AM -7 PM', 'NH Jun': '4 AM -7 PM', 'NH Jul': '4 AM -7 PM', 'NH Aug': '4 AM -7 PM', 'NH Sep': '4 AM -7 PM', 'NH Oct': nan, 'NH Nov': nan, 'NH Dec': nan, 'Color 1': 'Yellow', 'Color 2': 'Green'}, {'Unique Entry ID': 'poAcys5Mr35ELp5PS', 'Name': 'violin beetle', 'Sell': 450, 'Where/How': 'On tree stumps', 'Weather': 'Any except rain', 'Total Catches to Unlock': 0, 'Spawn Rates': 10, 'NH Jan': nan, 'NH Feb': nan, 'NH Mar': nan, 'NH Apr': nan, 'NH May': 'All day', 'NH Jun': 'All day', 'NH Jul': nan, 'NH Aug': nan, 'NH Sep': 'All day', 'NH Oct': 'All day', 'NH Nov': 'All day', 'NH Dec': nan, 'Color 1': 'Brown', 'Color 2': 'Black'}, {'Unique Entry ID': 'QdrL4K7seJHvd4ZZM', 'Name': 'walker cicada', 'Sell': 400, 'Where/How': 'On hardwood/cedar trees', 'Weather': 'Any weather', 'Total Catches to Unlock': 0, 'Spawn Rates': 40, 'NH Jan': nan, 'NH Feb': nan, 'NH Mar': nan, 'NH Apr': nan, 'NH May': nan, 'NH Jun': nan, 'NH Jul': nan, 'NH Aug': '8 AM -5 PM', 'NH Sep': '8 AM -5 PM', 'NH Oct': nan, 'NH Nov': nan, 'NH Dec': nan, 'Color 1': 'Black', 'Color 2': 'Pink'}, {'Unique Entry ID': 'kuZaMcg2E7ZX56nio', 'Name': 'walking leaf', 'Sell': 600, 'Where/How': 'Disguised under trees', 'Weather': 'Any weather', 'Total Catches to Unlock': 20, 'Spawn Rates': 10, 'NH Jan': nan, 'NH Feb': nan, 'NH Mar': nan, 'NH Apr': nan, 'NH May': nan, 'NH Jun': nan, 'NH Jul': 'All day', 'NH Aug': 'All day', 'NH Sep': 'All day', 'NH Oct': nan, 'NH Nov': nan, 'NH Dec': nan, 'Color 1': 'Green', 'Color 2': 'Green'}, {'Unique Entry ID': 'WQjgrjYotbwH59vXG', 'Name': 'walking stick', 'Sell': 600, 'Where/How': 'On trees (any kind)', 'Weather': 'Any weather', 'Total Catches to Unlock': 20, 'Spawn Rates': 10, 'NH Jan': nan, 'NH Feb': nan, 'NH Mar': nan, 'NH Apr': nan, 'NH May': nan, 'NH Jun': nan, 'NH Jul': '4 AM - 8 AM; 5 PM -7 PM', 'NH Aug': '4 AM - 8 AM; 5 PM -7 PM', 'NH Sep': '4 AM - 8 AM; 5 PM -7 PM', 'NH Oct': '4 AM - 8 AM; 5 PM -7 PM', 'NH Nov': '4 AM - 8 AM; 5 PM -7 PM', 'NH Dec': nan, 'Color 1': 'Brown', 'Color 2': 'Yellow'}, {'Unique Entry ID': 'ZEfBHqM6pFEddBezw', 'Name': 'wasp', 'Sell': 2500, 'Where/How': 'Shaking trees', 'Weather': 'Any weather', 'Total Catches to Unlock': 0, 'Spawn Rates': 0, 'NH Jan': 'All day', 'NH Feb': 'All day', 'NH Mar': 'All day', 'NH Apr': 'All day', 'NH May': 'All day', 'NH Jun': 'All day', 'NH Jul': 'All day', 'NH Aug': 'All day', 'NH Sep': 'All day', 'NH Oct': 'All day', 'NH Nov': 'All day', 'NH Dec': 'All day', 'Color 1': 'Yellow', 'Color 2': 'Orange'}, {'Unique Entry ID': '2fp9ChfPuPdYefTK3', 'Name': 'wharf roach', 'Sell': 200, 'Where/How': 'On beach rocks', 'Weather': 'Any weather', 'Total Catches to Unlock': 0, 'Spawn Rates': 20, 'NH Jan': 'All day', 'NH Feb': 'All day', 'NH Mar': 'All day', 'NH Apr': 'All day', 'NH May': 'All day', 'NH Jun': 'All day', 'NH Jul': 'All day', 'NH Aug': 'All day', 'NH Sep': 'All day', 'NH Oct': 'All day', 'NH Nov': 'All day', 'NH Dec': 'All day', 'Color 1': 'Beige', 'Color 2': 'Blue'}, {'Unique Entry ID': '9d92MqgcnGao8wQjB', 'Name': 'yellow butterfly', 'Sell': 160, 'Where/How': 'Flying', 'Weather': 'Any except rain', 'Total Catches to Unlock': 0, 'Spawn Rates': 60, 'NH Jan': nan, 'NH Feb': nan, 'NH Mar': '4 AM -7 PM', 'NH Apr': '4 AM -7 PM', 'NH May': '4 AM -7 PM', 'NH Jun': '4 AM -7 PM', 'NH Jul': nan, 'NH Aug': nan, 'NH Sep': '4 AM -7 PM', 'NH Oct': '4 AM -7 PM', 'NH Nov': nan, 'NH Dec': nan, 'Color 1': 'Yellow', 'Color 2': 'Blue'}]\n"
     ]
    }
   ],
   "source": [
    "import pandas\n",
    "lines=pandas.read_csv(\"insects.csv\",sep=\";\",encoding=\"latin1\")\n",
    "insects_csv= pandas.DataFrame(lines)\n",
    "columns=insects_csv.columns\n",
    "\n",
    "insects_csv=insects_csv[['Unique Entry ID', 'Name', 'Sell', 'Where/How', 'Weather','Total Catches to Unlock', 'Spawn Rates', 'NH Jan', 'NH Feb', 'NH Mar','NH Apr', 'NH May', 'NH Jun', 'NH Jul', 'NH Aug', 'NH Sep', 'NH Oct',\n",
    "       'NH Nov', 'NH Dec','Color 1', 'Color 2']]\n",
    "insectos = insects_csv.to_dict('index')\n",
    "insects_array=[]\n",
    "for i in insectos:\n",
    "    insects_array.append(insectos[i])\n",
    "print(insects_array)\n",
    "\n"
   ]
  },
  {
   "cell_type": "code",
   "execution_count": 9,
   "metadata": {},
   "outputs": [
    {
     "ename": "NameError",
     "evalue": "name 'Graph' is not defined",
     "output_type": "error",
     "traceback": [
      "\u001b[1;31m---------------------------------------------------------------------------\u001b[0m",
      "\u001b[1;31mNameError\u001b[0m                                 Traceback (most recent call last)",
      "\u001b[1;32m<ipython-input-9-37b152f70064>\u001b[0m in \u001b[0;36m<module>\u001b[1;34m\u001b[0m\n\u001b[0;32m      1\u001b[0m \u001b[1;31m#let's create a namespace for this data type\u001b[0m\u001b[1;33m\u001b[0m\u001b[1;33m\u001b[0m\u001b[1;33m\u001b[0m\u001b[0m\n\u001b[1;32m----> 2\u001b[1;33m \u001b[0mG\u001b[0m\u001b[1;33m=\u001b[0m\u001b[0mGraph\u001b[0m\u001b[1;33m(\u001b[0m\u001b[1;33m)\u001b[0m\u001b[1;33m\u001b[0m\u001b[1;33m\u001b[0m\u001b[0m\n\u001b[0m\u001b[0;32m      3\u001b[0m \u001b[1;33m\u001b[0m\u001b[0m\n\u001b[0;32m      4\u001b[0m \u001b[0mac\u001b[0m \u001b[1;33m=\u001b[0m \u001b[0mNamespace\u001b[0m\u001b[1;33m(\u001b[0m\u001b[1;34m'http://www.di.fc.ul.pt/~Carolina_João/Animal_crossing#'\u001b[0m\u001b[1;33m)\u001b[0m\u001b[1;33m\u001b[0m\u001b[1;33m\u001b[0m\u001b[0m\n\u001b[0;32m      5\u001b[0m \u001b[1;33m\u001b[0m\u001b[0m\n",
      "\u001b[1;31mNameError\u001b[0m: name 'Graph' is not defined"
     ]
    }
   ],
   "source": [
    "#let's create a namespace for this data type\n",
    "G=Graph()\n",
    "\n",
    "ac = Namespace('http://www.di.fc.ul.pt/~Carolina_João/Animal_crossing#')\n",
    "\n",
    "likesWater = URIRef(\"likesWater\")\n",
    "G.add((likesWater, RDF.type, XSD.boolean))\n",
    "\n",
    "#create set of unique products\n",
    "\n",
    "for i in insects_array:\n",
    "    #take special note of the next line! - this is how we append a namespace to a string to make a URI\n",
    "\n",
    "    insecto_name = URIRef(i[\"Name\"])\n",
    "    ueid= URIRef(ac+i[\"Unique Entry ID\"])\n",
    "\n",
    "    sell_price= URIRef(ac+i[\"Unique Entry ID\"])\n",
    "    where_how= URIRef(i[\"Where/How\"])\n",
    "    weather= URIRef(i[\"Weather\"])\n",
    "    \n",
    "\n",
    "    \n",
    "    # 'Total Catches to Unlock', 'Spawn Rates', 'NH Jan', 'NH Feb', 'NH Mar','NH Apr', 'NH May', 'NH Jun', 'NH Jul', 'NH Aug', 'NH Sep', 'NH Oct',\n",
    "      # 'NH Nov', 'NH Dec','Color 1', 'Color 2'\n",
    "    G.add((ueid, RDF.type, ac.Insect))\n",
    "    G.add((ueid, RDFS.label, Literal(insecto_name, lang=\"en\")))\n",
    "    \n",
    "    G.add((ueid, ac.where_how,Literal(where_how)))\n",
    "    \n",
    "    if \"water\" in i[\"Where/How\"]:\n",
    "        G.add((ueid, ac.likesWater,Literal(True))\n",
    "    \n",
    "    G.add((ueid, ac.weather,Literal(weather)))\n",
    "\n",
    "    #and here we give it a label (labels are human readable, URIs, may not be so)\n",
    "G.bind(\"ac\",ac) \n",
    "#print(G.serialize(format='n3'))\n",
    "print(G.serialize(format='turtle'))"
   ]
  },
  {
   "cell_type": "code",
   "execution_count": null,
   "metadata": {},
   "outputs": [],
   "source": []
  },
  {
   "cell_type": "code",
   "execution_count": 30,
   "metadata": {},
   "outputs": [
    {
     "name": "stdout",
     "output_type": "stream",
     "text": [
      "Not found!\n"
     ]
    }
   ],
   "source": [
    "fullstring = \"On rivers ponds\"\n",
    "substring = \"a\"\n",
    "\n",
    "#isto foi um teste, ele so assume o primeiro or idk why\n",
    "if ( \"water\" or  \"rivers\" or \"ponds\") in fullstring:\n",
    "    print(\"Found!\")\n",
    "else:\n",
    "    print(\"Not found!\")"
   ]
  },
  {
   "cell_type": "code",
   "execution_count": null,
   "metadata": {},
   "outputs": [],
   "source": []
  },
  {
   "cell_type": "code",
   "execution_count": 4,
   "metadata": {},
   "outputs": [],
   "source": [
    "import pandas\n",
    "lines2=pandas.read_csv(\"fish.csv\",sep=\";\",encoding=\"utf-8\")\n",
    "fish_csv= pandas.DataFrame(lines2)\n",
    "columns_fish=fish_csv.columns\n",
    "\n",
    "\n",
    "fish_csv=fish_csv[['Unique Entry ID', 'Name', 'Sell', 'Where/How', 'Shadow','Total Catches to Unlock', 'Rain/Snow Catch Up', 'Spawn Rates', 'NH Jan', 'NH Feb', 'NH Mar','NH Apr', 'NH May', 'NH Jun', 'NH Jul', 'NH Aug', 'NH Sep', 'NH Oct',\n",
    "       'NH Nov', 'NH Dec','Color 1', 'Color 2', 'Lighting Type']]\n",
    "peixes = fish_csv.to_dict('index')\n",
    "fish_array=[]\n",
    "for p in peixes:\n",
    "    fish_array.append(peixes[p])\n",
    "\n"
   ]
  },
  {
   "cell_type": "code",
   "execution_count": null,
   "metadata": {},
   "outputs": [],
   "source": []
  },
  {
   "cell_type": "code",
   "execution_count": 5,
   "metadata": {},
   "outputs": [
    {
     "ename": "NameError",
     "evalue": "name 'G' is not defined",
     "output_type": "error",
     "traceback": [
      "\u001b[1;31m---------------------------------------------------------------------------\u001b[0m",
      "\u001b[1;31mNameError\u001b[0m                                 Traceback (most recent call last)",
      "\u001b[1;32m<ipython-input-5-6679dad5882f>\u001b[0m in \u001b[0;36m<module>\u001b[1;34m\u001b[0m\n\u001b[0;32m      6\u001b[0m \u001b[1;32mfor\u001b[0m \u001b[0mf\u001b[0m \u001b[1;32min\u001b[0m \u001b[0mfish_array\u001b[0m\u001b[1;33m:\u001b[0m\u001b[1;33m\u001b[0m\u001b[1;33m\u001b[0m\u001b[0m\n\u001b[0;32m      7\u001b[0m     \u001b[1;31m#take special note of the next line! - this is how we append a namespace to a string to make a URI\u001b[0m\u001b[1;33m\u001b[0m\u001b[1;33m\u001b[0m\u001b[1;33m\u001b[0m\u001b[0m\n\u001b[1;32m----> 8\u001b[1;33m     \u001b[0mG\u001b[0m\u001b[1;33m.\u001b[0m\u001b[0mbind\u001b[0m\u001b[1;33m(\u001b[0m\u001b[1;34m\"ac\"\u001b[0m\u001b[1;33m,\u001b[0m\u001b[0mac\u001b[0m\u001b[1;33m)\u001b[0m\u001b[1;33m\u001b[0m\u001b[1;33m\u001b[0m\u001b[0m\n\u001b[0m\u001b[0;32m      9\u001b[0m     \u001b[0mueid\u001b[0m\u001b[1;33m=\u001b[0m \u001b[0mURIRef\u001b[0m\u001b[1;33m(\u001b[0m\u001b[0mac\u001b[0m\u001b[1;33m+\u001b[0m\u001b[0mf\u001b[0m\u001b[1;33m[\u001b[0m\u001b[1;34m\"Unique Entry ID\"\u001b[0m\u001b[1;33m]\u001b[0m\u001b[1;33m)\u001b[0m\u001b[1;33m\u001b[0m\u001b[1;33m\u001b[0m\u001b[0m\n\u001b[0;32m     10\u001b[0m     \u001b[0mname\u001b[0m \u001b[1;33m=\u001b[0m \u001b[0mURIRef\u001b[0m\u001b[1;33m(\u001b[0m\u001b[0mf\u001b[0m\u001b[1;33m[\u001b[0m\u001b[1;34m\"Name\"\u001b[0m\u001b[1;33m]\u001b[0m\u001b[1;33m)\u001b[0m\u001b[1;33m\u001b[0m\u001b[1;33m\u001b[0m\u001b[0m\n",
      "\u001b[1;31mNameError\u001b[0m: name 'G' is not defined"
     ]
    }
   ],
   "source": [
    "#let's create a namespace for this data type\n",
    "\n",
    "\n",
    "#create set of unique products\n",
    "\n",
    "for f in fish_array:\n",
    "    #take special note of the next line! - this is how we append a namespace to a string to make a URI\n",
    "    G.bind(\"ac\",ac)\n",
    "    ueid= URIRef(ac+f[\"Unique Entry ID\"])\n",
    "    name = URIRef(f[\"Name\"])\n",
    "    sell_price= URIRef(i[\"Sell\"],datatype=XSD.int)\n",
    "    where_how= URIRef(i[\"Where/How\"])\n",
    "    shadow= URIRef(i[\"Shadow\"])\n",
    "    catches2unlock= URIRef(i[\"Total Catches to Unlock\"], datatype=XSD.int)\n",
    "    spawn= URIRef(i[\"Spawn Rates\"])\n",
    "    rain_snow= URIRef(i[\"Rain/Snow Catch Up\"])\n",
    "    hours_jan= URIRef(i[\"NH Jan\"])\n",
    "    hours_feb= URIRef(i[\"NH Feb\"])\n",
    "    hours_mar= URIRef(i[\"NH Mar\"])\n",
    "    hours_apr= URIRef(i[\"NH Apr\"])\n",
    "    hours_may= URIRef(i[\"NH May\"])\n",
    "    hours_jun= URIRef(i[\"NH Jun\"])\n",
    "    hours_jul= URIRef(i[\"NH Jul\"])\n",
    "    hours_aug= URIRef(i[\"NH Aug\"])\n",
    "    hours_sep= URIRef(i[\"NH Sep\"])\n",
    "    hours_oct= URIRef(i[\"NH Oct\"])\n",
    "    hours_nov= URIRef(i[\"NH Nov\"])\n",
    "    hours_dec= URIRef(i[\"NH Dec\"])\n",
    "    color1= URIRef(i[\"Color1\"])\n",
    "    color2= URIRef(i[\"Color2\"])\n",
    "    lighting= URIRef(i[\"Lighting Type\"])\n",
    "\n",
    "    G.add((ueid, RDF.type, ac.Fish))\n",
    "    G.add((ueid, RDFS.label, Literal(fish_name, lang=\"en\")))\n",
    "    G.add((ueid, ac.sell_price,Literal(sell_price)))\n",
    "    G.add((ueid, ac.where_how,Literal(where_how)))\n",
    "    G.add((ueid, ac.shadow,Literal(shadow)))\n",
    "    G.add((ueid, ac.catches2unlock,Literal(catches2unlock)))\n",
    "    G.add((ueid, ac.spawn,Literal(spawn)))\n",
    "    G.add((ueid, ac.rain_snow,Literal(rain_snow)))\n",
    "    G.add((ueid, ac.hours_jan,Literal(hours_jan)))\n",
    "    G.add((ueid, ac.hours_fev,Literal(hours_fev)))\n",
    "    G.add((ueid, ac.hours_mar,Literal(hours_mar)))\n",
    "    G.add((ueid, ac.hours_apr,Literal(hours_apr)))\n",
    "    G.add((ueid, ac.hours_may,Literal(hours_may)))\n",
    "    G.add((ueid, ac.hours_jun,Literal(hours_jun)))\n",
    "    G.add((ueid, ac.hours_jul,Literal(hours_jul)))\n",
    "    G.add((ueid, ac.hours_aug,Literal(hours_aug)))\n",
    "    G.add((ueid, ac.hours_sep,Literal(hours_sep)))\n",
    "    G.add((ueid, ac.hours_oct,Literal(hours_oct)))\n",
    "    G.add((ueid, ac.hours_nov,Literal(hours_nov)))\n",
    "    G.add((ueid, ac.hours_dec,Literal(hours_dec)))\n",
    "    G.add((ueid, ac.color1,Literal(color1)))\n",
    "    G.add((ueid, ac.color2,Literal(color2)))\n",
    "    G.add((ueid, ac.lighting,Literal(lighting)))\n",
    "    \n",
    "    G.add((ueid, ac.likesWater,Literal(True))\n",
    "    \n",
    "    \n",
    "\n",
    "    #and here we give it a label (labels are human readable, URIs, may not be so)\n",
    "    \n",
    "#print(G.serialize(format='n3'))\n",
    "print(G.serialize(format='turtle'))"
   ]
  },
  {
   "cell_type": "code",
   "execution_count": null,
   "metadata": {},
   "outputs": [],
   "source": []
  },
  {
   "cell_type": "code",
   "execution_count": null,
   "metadata": {},
   "outputs": [],
   "source": []
  },
  {
   "cell_type": "code",
   "execution_count": null,
   "metadata": {},
   "outputs": [],
   "source": []
  },
  {
   "cell_type": "code",
   "execution_count": null,
   "metadata": {},
   "outputs": [],
   "source": []
  },
  {
   "cell_type": "code",
   "execution_count": null,
   "metadata": {},
   "outputs": [],
   "source": []
  },
  {
   "cell_type": "code",
   "execution_count": null,
   "metadata": {},
   "outputs": [],
   "source": []
  }
 ],
 "metadata": {
  "kernelspec": {
   "display_name": "Python 3",
   "language": "python",
   "name": "python3"
  },
  "language_info": {
   "codemirror_mode": {
    "name": "ipython",
    "version": 3
   },
   "file_extension": ".py",
   "mimetype": "text/x-python",
   "name": "python",
   "nbconvert_exporter": "python",
   "pygments_lexer": "ipython3",
   "version": "3.7.2"
  }
 },
 "nbformat": 4,
 "nbformat_minor": 5
}
