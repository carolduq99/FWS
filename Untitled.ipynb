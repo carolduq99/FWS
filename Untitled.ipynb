{
 "cells": [
  {
   "cell_type": "code",
   "execution_count": null,
   "id": "036181d4",
   "metadata": {},
   "outputs": [],
   "source": [
    "from rdflib import Graph, URIRef, RDF, Literal, BNode,Namespace\n",
    "from rdflib.namespace import FOAF, XSD, RDFS"
   ]
  },
  {
   "cell_type": "code",
   "execution_count": 20,
   "id": "13803dd8",
   "metadata": {},
   "outputs": [
    {
     "ename": "NameError",
     "evalue": "name 'uid' is not defined",
     "output_type": "error",
     "traceback": [
      "\u001b[1;31m---------------------------------------------------------------------------\u001b[0m",
      "\u001b[1;31mNameError\u001b[0m                                 Traceback (most recent call last)",
      "\u001b[1;32m<ipython-input-20-838bee2a9888>\u001b[0m in \u001b[0;36m<module>\u001b[1;34m\u001b[0m\n\u001b[0;32m      4\u001b[0m \u001b[1;33m\u001b[0m\u001b[0m\n\u001b[0;32m      5\u001b[0m \u001b[1;32mfor\u001b[0m \u001b[0mlin\u001b[0m \u001b[1;32min\u001b[0m \u001b[0mlines\u001b[0m\u001b[1;33m[\u001b[0m\u001b[1;36m1\u001b[0m\u001b[1;33m:\u001b[0m\u001b[1;33m]\u001b[0m\u001b[1;33m:\u001b[0m\u001b[1;33m\u001b[0m\u001b[1;33m\u001b[0m\u001b[0m\n\u001b[1;32m----> 6\u001b[1;33m     \u001b[0muid\u001b[0m\u001b[1;33m,\u001b[0m \u001b[0mname\u001b[0m\u001b[1;33m,\u001b[0m \u001b[0msell_price\u001b[0m\u001b[1;33m,\u001b[0m \u001b[0mwhere_how\u001b[0m\u001b[1;33m,\u001b[0m \u001b[0mcatches2unlock\u001b[0m\u001b[1;33m,\u001b[0m \u001b[0mspawn_rate\u001b[0m\u001b[1;33m,\u001b[0m\u001b[0mwhen_jan\u001b[0m\u001b[1;33m,\u001b[0m\u001b[0mwhen_fev\u001b[0m\u001b[1;33m,\u001b[0m\u001b[0mwhen_mar\u001b[0m\u001b[1;33m,\u001b[0m\u001b[0mwhen_apr\u001b[0m\u001b[1;33m,\u001b[0m\u001b[0mwhen_may\u001b[0m\u001b[1;33m,\u001b[0m\u001b[0mwhen_jun\u001b[0m\u001b[1;33m,\u001b[0m\u001b[0mwhen_jul\u001b[0m\u001b[1;33m,\u001b[0m\u001b[0mwhen_aug\u001b[0m\u001b[1;33m,\u001b[0m\u001b[0mwhen_sep\u001b[0m\u001b[1;33m,\u001b[0m\u001b[0mwhen_oct\u001b[0m\u001b[1;33m,\u001b[0m\u001b[0mwhen_nov\u001b[0m\u001b[1;33m,\u001b[0m\u001b[0mwhen_dec\u001b[0m\u001b[1;33m,\u001b[0m\u001b[0mcolor1\u001b[0m\u001b[1;33m,\u001b[0m\u001b[0mcolor2\u001b[0m\u001b[1;33m\u001b[0m\u001b[1;33m\u001b[0m\u001b[0m\n\u001b[0m\u001b[0;32m      7\u001b[0m     insect={\"uid\":  int(uid), \"name\": str(name), \"sell_price\": int(sell_price), \"where_how\": str(where_how), \"catches2unlock\": int(catches2unlock), \"spawn_rate\": int(spawn_rate),\"when_jan\": str(when_jan),\n\u001b[0;32m      8\u001b[0m             \"when_fev\": str(when_fev),\"when_mar\": str(when_mar),\"when_apr\": str(when_apr),\"when_may\": str(when_may),\"when_jun\": str(when_jun),\"when_jul\": str(when_jul),\"when_aug\": str(when_aug),\"when_sep\": str(when_sep),\"when_oct\": str(when_oct),\"when_nov\": str(when_nov),\"when_dec\": str(when_dec),\"color1\": str(color1),\"color2\": str(color2)}\n",
      "\u001b[1;31mNameError\u001b[0m: name 'uid' is not defined"
     ]
    }
   ],
   "source": [
    "import pandas\n",
    "lines=pandas.read_csv(\"insects.csv\",sep=\";\",encoding='latin1')\n",
    "insects=[]\n",
    "\n",
    "for lin in lines[1:]:\n",
    "    uid, name, sell_price, where_how, catches2unlock, spawn_rate,when_jan,when_fev,when_mar,when_apr,when_may,when_jun,when_jul,when_aug,when_sep,when_oct,when_nov,when_dec,color1,color2\n",
    "    insect={\"uid\":  int(uid), \"name\": str(name), \"sell_price\": int(sell_price), \"where_how\": str(where_how), \"catches2unlock\": int(catches2unlock), \"spawn_rate\": int(spawn_rate),\"when_jan\": str(when_jan),\n",
    "            \"when_fev\": str(when_fev),\"when_mar\": str(when_mar),\"when_apr\": str(when_apr),\"when_may\": str(when_may),\"when_jun\": str(when_jun),\"when_jul\": str(when_jul),\"when_aug\": str(when_aug),\"when_sep\": str(when_sep),\"when_oct\": str(when_oct),\"when_nov\": str(when_nov),\"when_dec\": str(when_dec),\"color1\": str(color1),\"color2\": str(color2)}\n",
    "    print(insect)\n",
    "    insects.append(insect)"
   ]
  },
  {
   "cell_type": "code",
   "execution_count": null,
   "id": "687b1c8a",
   "metadata": {},
   "outputs": [],
   "source": []
  },
  {
   "cell_type": "code",
   "execution_count": null,
   "id": "88d62694",
   "metadata": {},
   "outputs": [],
   "source": []
  },
  {
   "cell_type": "code",
   "execution_count": null,
   "id": "583bd64b",
   "metadata": {},
   "outputs": [],
   "source": []
  },
  {
   "cell_type": "code",
   "execution_count": null,
   "id": "d139f485",
   "metadata": {},
   "outputs": [],
   "source": []
  },
  {
   "cell_type": "code",
   "execution_count": null,
   "id": "b105b820",
   "metadata": {},
   "outputs": [],
   "source": []
  },
  {
   "cell_type": "code",
   "execution_count": null,
   "id": "e5984fd6",
   "metadata": {},
   "outputs": [],
   "source": []
  },
  {
   "cell_type": "code",
   "execution_count": null,
   "id": "232d471d",
   "metadata": {},
   "outputs": [],
   "source": []
  },
  {
   "cell_type": "code",
   "execution_count": null,
   "id": "2c7aafc0",
   "metadata": {},
   "outputs": [],
   "source": []
  },
  {
   "cell_type": "code",
   "execution_count": null,
   "id": "836dbf18",
   "metadata": {},
   "outputs": [],
   "source": []
  },
  {
   "cell_type": "code",
   "execution_count": null,
   "id": "8aa84025",
   "metadata": {},
   "outputs": [],
   "source": []
  },
  {
   "cell_type": "code",
   "execution_count": null,
   "id": "75161107",
   "metadata": {},
   "outputs": [],
   "source": []
  }
 ],
 "metadata": {
  "kernelspec": {
   "display_name": "Python 3",
   "language": "python",
   "name": "python3"
  },
  "language_info": {
   "codemirror_mode": {
    "name": "ipython",
    "version": 3
   },
   "file_extension": ".py",
   "mimetype": "text/x-python",
   "name": "python",
   "nbconvert_exporter": "python",
   "pygments_lexer": "ipython3",
   "version": "3.8.8"
  }
 },
 "nbformat": 4,
 "nbformat_minor": 5
}
