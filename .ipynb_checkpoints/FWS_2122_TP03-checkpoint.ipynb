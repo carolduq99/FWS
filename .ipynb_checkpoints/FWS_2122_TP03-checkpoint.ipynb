{
 "cells": [
  {
   "cell_type": "markdown",
   "metadata": {},
   "source": [
    "# Semantic Web Fundamentals - 2020/2021\n",
    "\n",
    "## Lab class TP03 - Querying data in RDF\n",
    "\n",
    "by Andre Falcao ((c) 2020-2021)\n",
    "\n",
    "**Summary:**\n",
    "1. Gettting the data [From CSV to triplestore]\n",
    "2. SPARQL within RDFLIB\n",
    "3. Running SPARQL from Everywhere\n",
    "\n",
    "## 1. Getting the data\n",
    "\n",
    "First let's load some of our familiar libraries"
   ]
  },
  {
   "cell_type": "code",
   "execution_count": 1,
   "metadata": {},
   "outputs": [],
   "source": [
    "#!pip install rdflib"
   ]
  },
  {
   "cell_type": "code",
   "execution_count": 2,
   "metadata": {},
   "outputs": [
    {
     "ename": "ModuleNotFoundError",
     "evalue": "No module named 'rdflib'",
     "output_type": "error",
     "traceback": [
      "\u001b[1;31m---------------------------------------------------------------------------\u001b[0m",
      "\u001b[1;31mModuleNotFoundError\u001b[0m                       Traceback (most recent call last)",
      "\u001b[1;32m<ipython-input-2-0f4c962a6bb1>\u001b[0m in \u001b[0;36m<module>\u001b[1;34m\u001b[0m\n\u001b[1;32m----> 1\u001b[1;33m \u001b[1;32mfrom\u001b[0m \u001b[0mrdflib\u001b[0m \u001b[1;32mimport\u001b[0m \u001b[0mGraph\u001b[0m\u001b[1;33m,\u001b[0m \u001b[0mURIRef\u001b[0m\u001b[1;33m,\u001b[0m \u001b[0mRDF\u001b[0m\u001b[1;33m,\u001b[0m \u001b[0mLiteral\u001b[0m\u001b[1;33m,\u001b[0m \u001b[0mBNode\u001b[0m\u001b[1;33m\u001b[0m\u001b[1;33m\u001b[0m\u001b[0m\n\u001b[0m\u001b[0;32m      2\u001b[0m \u001b[1;32mfrom\u001b[0m \u001b[0mrdflib\u001b[0m\u001b[1;33m.\u001b[0m\u001b[0mnamespace\u001b[0m \u001b[1;32mimport\u001b[0m \u001b[0mFOAF\u001b[0m\u001b[1;33m,\u001b[0m \u001b[0mXSD\u001b[0m\u001b[1;33m,\u001b[0m \u001b[0mRDFS\u001b[0m\u001b[1;33m\u001b[0m\u001b[1;33m\u001b[0m\u001b[0m\n",
      "\u001b[1;31mModuleNotFoundError\u001b[0m: No module named 'rdflib'"
     ]
    }
   ],
   "source": [
    "from rdflib import Graph, URIRef, RDF, Literal, BNode\n",
    "from rdflib.namespace import FOAF, XSD, RDFS"
   ]
  },
  {
   "cell_type": "markdown",
   "metadata": {},
   "source": [
    "### 1.1. Making a Graph with namespaces \n",
    "\n",
    "Now let's create our previous friends RDF store with some add ons"
   ]
  },
  {
   "cell_type": "code",
   "execution_count": 5,
   "metadata": {},
   "outputs": [
    {
     "name": "stdout",
     "output_type": "stream",
     "text": [
      "@prefix aff: <http://www.di.fc.ul.pt/~afalcao/friends#> .\n",
      "@prefix foaf: <http://xmlns.com/foaf/0.1/> .\n",
      "@prefix vc: <http://www.w3.org/2006/vcard/ns#> .\n",
      "@prefix xsd: <http://www.w3.org/2001/XMLSchema#> .\n",
      "\n",
      "aff:Alice a foaf:Person ;\n",
      "    vc:hasAddress [ vc:hasLocality \"Setúbal\"@pt-PT ;\n",
      "            vc:hasPostalCode \"9876-543\" ;\n",
      "            vc:hasStreetAddress \"R. das Águas, nº 12\"@pt-PT ] ;\n",
      "    foaf:age \"28\"^^xsd:int ;\n",
      "    foaf:name \"Alice Door\" .\n",
      "\n",
      "aff:Charles a foaf:Person ;\n",
      "    foaf:age \"42\"^^xsd:int ;\n",
      "    foaf:name \"Charles Wall\" ;\n",
      "    foaf:nick \"Chuck\" .\n",
      "\n",
      "aff:Robert a foaf:Person ;\n",
      "    foaf:name \"Robert Window\" ;\n",
      "    foaf:nick \"Bob\" .\n",
      "\n",
      "\n"
     ]
    }
   ],
   "source": [
    "from rdflib import Namespace\n",
    "\n",
    "G=Graph()\n",
    "aff = Namespace(\"http://www.di.fc.ul.pt/~afalcao/friends#\")\n",
    "vc = Namespace(\"http://www.w3.org/2006/vcard/ns#\")\n",
    "\n",
    "G.add((aff.Robert, RDF.type, FOAF.Person))\n",
    "G.add((aff.Robert, FOAF.nick, Literal(\"Bob\")))\n",
    "G.add((aff.Robert, FOAF.name, Literal(\"Robert Window\")))\n",
    "G.add((aff.Alice, RDF.type, FOAF.Person))\n",
    "G.add((aff.Alice, FOAF.name, Literal(\"Alice Door\")))\n",
    "G.add((aff.Alice, FOAF.age, Literal(\"28\", datatype=XSD.int)))\n",
    "G.add((aff.Charles, RDF.type, FOAF.Person))\n",
    "G.add((aff.Charles, FOAF.nick, Literal(\"Chuck\")))\n",
    "G.add((aff.Charles, FOAF.name, Literal(\"Charles Wall\")))\n",
    "G.add((aff.Charles, FOAF.age, Literal(\"42\", datatype=XSD.int)))\n",
    "\n",
    "Alice_address = BNode()  # a GUID is generated\n",
    "G.add((aff.Alice, vc.hasAddress,  Alice_address))\n",
    "G.add((Alice_address, vc.hasLocality, Literal(\"Setúbal\", lang=\"pt-PT\") ))\n",
    "G.add((Alice_address, vc.hasPostalCode, Literal(\"9876-543\") ))\n",
    "G.add((Alice_address, vc.hasStreetAddress, Literal(\"R. das Águas, nº 12\", lang=\"pt-PT\") ))\n",
    "G.bind(\"vc\", vc)\n",
    "\n",
    "#and here it is -> We bind explicitly the namespaces to the store\n",
    "G.bind(\"foaf\", FOAF)\n",
    "G.bind(\"aff\", aff)\n",
    "G.bind(\"vc\", vc)\n",
    "\n",
    "#and now it just looks much better!\n",
    "#print(G.serialize(format='n3'))\n",
    "print(G.serialize(format='n3'))"
   ]
  },
  {
   "cell_type": "markdown",
   "metadata": {},
   "source": [
    "## 1.2 Reading data from a file\n",
    "\n",
    "The purpose here is to add the sales data as it appears in the sales.csv file\n",
    "\n",
    "**Important Note** This is not the best way to read tabular data. It is not necessary to create a dictionary. Files can be processed on the fly without any user input. For CSV files the use of pandas library is highly reccommended, for reading filtering and visualizing!\n"
   ]
  },
  {
   "cell_type": "code",
   "execution_count": 6,
   "metadata": {},
   "outputs": [
    {
     "name": "stdout",
     "output_type": "stream",
     "text": [
      "{'sid': 'sid0001', 'buyer': 'Robert', 'seller': 'Alice', 'product': 'potato', 'quantity': 3, 'cost': 30.0}\n",
      "{'sid': 'sid0002', 'buyer': 'Robert', 'seller': 'Charles', 'product': 'tomato', 'quantity': 5, 'cost': 40.0}\n",
      "{'sid': 'sid0003', 'buyer': 'Alice', 'seller': 'Charles', 'product': 'onion', 'quantity': 10, 'cost': 50.0}\n",
      "{'sid': 'sid0004', 'buyer': 'Charles', 'seller': 'Daisy', 'product': 'potato', 'quantity': 4, 'cost': 40.0}\n"
     ]
    }
   ],
   "source": [
    "lines=open(\"sales.csv\", \"rt\").readlines()\n",
    "\n",
    "sales=[]\n",
    "\n",
    "for lin in lines[1:]:\n",
    "   \n",
    "    sid, buyer, seller, product, quant, cost=lin.split(\",\")\n",
    "    sale={\"sid\": \"sid%04d\" % int(sid), \"buyer\": buyer.strip(), \"seller\": seller.strip(), \"product\": product.strip(), \n",
    "          \"quantity\": int(quant), \"cost\": float(cost) }\n",
    "    print(sale)\n",
    "    sales.append(sale)"
   ]
  },
  {
   "cell_type": "code",
   "execution_count": 7,
   "metadata": {},
   "outputs": [],
   "source": [
    "a=\"a,b,c,w\"\n",
    "\n",
    "x1,x2,x3,x4=a.split(\",\")\n"
   ]
  },
  {
   "cell_type": "code",
   "execution_count": 8,
   "metadata": {},
   "outputs": [
    {
     "name": "stdout",
     "output_type": "stream",
     "text": [
      "o valor é 1.2 metros a\n"
     ]
    }
   ],
   "source": [
    "a=1.2\n",
    "\n",
    "s=\"o valor é %3.1f metros %s\" % (a, x1)\n",
    "print(s)\n"
   ]
  },
  {
   "cell_type": "markdown",
   "metadata": {},
   "source": [
    "### 1.3. Identify new resources\n",
    "\n",
    "As for identifible \"resources\" we have people as well as products. As the individuals were identified (most of them!) we need to identify all the products and add them\n",
    "\n",
    "Notice that we add two triples per resource. One to identify it, the other to label it!"
   ]
  },
  {
   "cell_type": "code",
   "execution_count": 10,
   "metadata": {},
   "outputs": [
    {
     "name": "stdout",
     "output_type": "stream",
     "text": [
      "o valor é 1.2 metros a\n",
      "@prefix aff: <http://www.di.fc.ul.pt/~afalcao/friends#> .\n",
      "@prefix foaf: <http://xmlns.com/foaf/0.1/> .\n",
      "@prefix rdfs: <http://www.w3.org/2000/01/rdf-schema#> .\n",
      "@prefix vc: <http://www.w3.org/2006/vcard/ns#> .\n",
      "@prefix xsd: <http://www.w3.org/2001/XMLSchema#> .\n",
      "\n",
      "<http://www.di.fc.ul.pt/~afalcao/Sales#Onion> a <http://www.di.fc.ul.pt/~afalcao/Sales#Product> ;\n",
      "    rdfs:label \"Onion\"@en .\n",
      "\n",
      "<http://www.di.fc.ul.pt/~afalcao/Sales#Potato> a <http://www.di.fc.ul.pt/~afalcao/Sales#Product> ;\n",
      "    rdfs:label \"Potato\"@en .\n",
      "\n",
      "<http://www.di.fc.ul.pt/~afalcao/Sales#Tomato> a <http://www.di.fc.ul.pt/~afalcao/Sales#Product> ;\n",
      "    rdfs:label \"Tomato\"@en .\n",
      "\n",
      "aff:Alice a foaf:Person ;\n",
      "    vc:hasAddress [ vc:hasLocality \"Setúbal\"@pt-PT ;\n",
      "            vc:hasPostalCode \"9876-543\" ;\n",
      "            vc:hasStreetAddress \"R. das Águas, nº 12\"@pt-PT ] ;\n",
      "    foaf:age \"28\"^^xsd:int ;\n",
      "    foaf:name \"Alice Door\" .\n",
      "\n",
      "aff:Charles a foaf:Person ;\n",
      "    foaf:age \"42\"^^xsd:int ;\n",
      "    foaf:name \"Charles Wall\" ;\n",
      "    foaf:nick \"Chuck\" .\n",
      "\n",
      "aff:Robert a foaf:Person ;\n",
      "    foaf:name \"Robert Window\" ;\n",
      "    foaf:nick \"Bob\" .\n",
      "\n",
      "\n"
     ]
    }
   ],
   "source": [
    "#let's create a namespace for this data type\n",
    "\n",
    "sls = Namespace(\"http://www.di.fc.ul.pt/~afalcao/Sales#\")\n",
    "\n",
    "#create set of unique products\n",
    "\n",
    "uniq_prods={s[\"product\"][0].upper()+s[\"product\"][1:] for s in sales}\n",
    "\n",
    "for p in uniq_prods:\n",
    "    #take special note of the next line! - this is how we append a namespace to a string to make a URI\n",
    "    product = URIRef(sls+p)\n",
    "    G.add((product, RDF.type, sls.Product))\n",
    "    #and here we give it a label (labels are human readable, URIs, may not be so)\n",
    "    G.add((product, RDFS.label, Literal(p, lang=\"en\")))\n",
    "#print(G.serialize(format='n3'))\n",
    "print(G.serialize(format='n3'))"
   ]
  },
  {
   "cell_type": "code",
   "execution_count": 18,
   "metadata": {},
   "outputs": [
    {
     "data": {
      "text/plain": [
       "{'Onion', 'Potato', 'Tomato'}"
      ]
     },
     "execution_count": 18,
     "metadata": {},
     "output_type": "execute_result"
    }
   ],
   "source": [
    "uniq_prods"
   ]
  },
  {
   "cell_type": "markdown",
   "metadata": {},
   "source": [
    "### 1.4. Add the table data\n",
    "\n",
    "Now that we have all the resources identified in the graph we can add everything. These are the steps we need to accomplish\n",
    "\n",
    "1. Identify as an URI or literal all the elements in each row\n",
    "    1. Each sale is an element by itself, even though it only has an ID\n",
    "    2. Buyers, sellers and products refer to entities already in the triplestore, so we must be careful in using the adequate URI\n",
    "    3. Literals should be qualified as to their types\n",
    "2. For each table row add the discovered elements (cells) as triples (6 triples per table row)"
   ]
  },
  {
   "cell_type": "code",
   "execution_count": 13,
   "metadata": {},
   "outputs": [
    {
     "name": "stdout",
     "output_type": "stream",
     "text": [
      "sid0001\n",
      "sid0002\n",
      "sid0003\n",
      "sid0004\n",
      "@prefix aff: <http://www.di.fc.ul.pt/~afalcao/friends#> .\n",
      "@prefix foaf: <http://xmlns.com/foaf/0.1/> .\n",
      "@prefix rdfs: <http://www.w3.org/2000/01/rdf-schema#> .\n",
      "@prefix sls: <http://www.di.fc.ul.pt/~afalcao/Sales#> .\n",
      "@prefix vc: <http://www.w3.org/2006/vcard/ns#> .\n",
      "@prefix xsd: <http://www.w3.org/2001/XMLSchema#> .\n",
      "\n",
      "sls:sid0001 a sls:Sale ;\n",
      "    sls:buyer aff:Robert ;\n",
      "    sls:cost \"30.0\"^^xsd:float ;\n",
      "    sls:product sls:Potato ;\n",
      "    sls:quantity \"3\"^^xsd:int ;\n",
      "    sls:seller aff:Alice .\n",
      "\n",
      "sls:sid0002 a sls:Sale ;\n",
      "    sls:buyer aff:Robert ;\n",
      "    sls:cost \"40.0\"^^xsd:float ;\n",
      "    sls:product sls:Tomato ;\n",
      "    sls:quantity \"5\"^^xsd:int ;\n",
      "    sls:seller aff:Charles .\n",
      "\n",
      "sls:sid0003 a sls:Sale ;\n",
      "    sls:buyer aff:Alice ;\n",
      "    sls:cost \"50.0\"^^xsd:float ;\n",
      "    sls:product sls:Onion ;\n",
      "    sls:quantity \"10\"^^xsd:int ;\n",
      "    sls:seller aff:Charles .\n",
      "\n",
      "sls:sid0004 a sls:Sale ;\n",
      "    sls:buyer aff:Charles ;\n",
      "    sls:cost \"40.0\"^^xsd:float ;\n",
      "    sls:product sls:Potato ;\n",
      "    sls:quantity \"4\"^^xsd:int ;\n",
      "    sls:seller aff:Daisy .\n",
      "\n",
      "sls:Onion a sls:Product ;\n",
      "    rdfs:label \"Onion\"@en .\n",
      "\n",
      "sls:Tomato a sls:Product ;\n",
      "    rdfs:label \"Tomato\"@en .\n",
      "\n",
      "sls:Potato a sls:Product ;\n",
      "    rdfs:label \"Potato\"@en .\n",
      "\n",
      "aff:Alice a foaf:Person ;\n",
      "    vc:hasAddress [ vc:hasLocality \"Setúbal\"@pt-PT ;\n",
      "            vc:hasPostalCode \"9876-543\" ;\n",
      "            vc:hasStreetAddress \"R. das Águas, nº 12\"@pt-PT ] ;\n",
      "    foaf:age \"28\"^^xsd:int ;\n",
      "    foaf:name \"Alice Door\" .\n",
      "\n",
      "aff:Robert a foaf:Person ;\n",
      "    foaf:name \"Robert Window\" ;\n",
      "    foaf:nick \"Bob\" .\n",
      "\n",
      "aff:Charles a foaf:Person ;\n",
      "    foaf:age \"42\"^^xsd:int ;\n",
      "    foaf:name \"Charles Wall\" ;\n",
      "    foaf:nick \"Chuck\" .\n",
      "\n",
      "\n"
     ]
    }
   ],
   "source": [
    "\n",
    "for s in sales:\n",
    "    print(s[\"sid\"])\n",
    "    sid= URIRef(sls+s[\"sid\"])\n",
    "    buyer= URIRef(aff+s[\"buyer\"])\n",
    "    seller= URIRef(aff+s[\"seller\"])\n",
    "    #for the product we \"have\" to uppercase it\n",
    "    prod=s[\"product\"][0].upper()+s[\"product\"][1:]\n",
    "    product= URIRef(sls+prod)\n",
    "    quant=Literal(s[\"quantity\"],datatype=XSD.int)\n",
    "    cost=Literal(s[\"cost\"],datatype=XSD.float)\n",
    "\n",
    "    G.add((sid, RDF.type, sls.Sale))\n",
    "    G.add((sid, sls.buyer, buyer))\n",
    "    G.add((sid, sls.seller, seller))\n",
    "    G.add((sid, sls.product, product))\n",
    "    G.add((sid, sls.quantity, quant))\n",
    "    G.add((sid, sls.cost, cost))\n",
    "\n",
    "G.bind(\"sls\", sls)\n",
    "\n",
    "print(G.serialize(format='n3'))"
   ]
  },
  {
   "cell_type": "markdown",
   "metadata": {},
   "source": [
    "#### Save the graph\n",
    "\n",
    "Let's save it in turtle format for future use"
   ]
  },
  {
   "cell_type": "code",
   "execution_count": null,
   "metadata": {},
   "outputs": [],
   "source": [
    "graph_data=G.serialize(format='turtle')\n",
    "\n",
    "#file is opened in binary mode for saving Unicode\n",
    "fil=open(\"tp3_data.ttl\", \"wb\")\n",
    "fil.write(graph_data)\n",
    "fil.close()\n"
   ]
  },
  {
   "cell_type": "markdown",
   "metadata": {},
   "source": [
    "## 2. Running SPARQL\n",
    "\n",
    "rdflib already has a nice SPARQL interpreter, and we do not need to install anything else\n",
    "\n",
    "Notice that in rdflib we do not need to declare the namespace prefixes as they are already bound to the graph. This not true when using an external SPARQL endpoint\n",
    "\n",
    "### 2.1. Running our first query\n",
    "\n",
    "First let's get the names of the persons"
   ]
  },
  {
   "cell_type": "code",
   "execution_count": null,
   "metadata": {},
   "outputs": [],
   "source": [
    "qres = G.query(\n",
    "    \"\"\"SELECT ?name\n",
    "       WHERE {\n",
    "          ?p a foaf:Person .\n",
    "          ?p foaf:name ?name .\n",
    "       }\"\"\")\n",
    "\n",
    "for row in qres:\n",
    "    print(\"Name: %s\" % row)"
   ]
  },
  {
   "cell_type": "markdown",
   "metadata": {},
   "source": [
    "#### A slightly more complex example\n",
    "\n",
    "Who bought Potatoes?"
   ]
  },
  {
   "cell_type": "code",
   "execution_count": null,
   "metadata": {},
   "outputs": [],
   "source": [
    "qres = G.query(\n",
    "    \"\"\"SELECT ?name\n",
    "       WHERE {\n",
    "          ?p a foaf:Person .\n",
    "          ?p foaf:name ?name .\n",
    "          ?s sls:buyer ?p .\n",
    "          ?s sls:product sls:Potato .\n",
    "       }\"\"\")\n",
    "\n",
    "for row in qres:\n",
    "    print(\"Name: %s\" % row)"
   ]
  },
  {
   "cell_type": "markdown",
   "metadata": {},
   "source": [
    "#### Retriving more than one column\n",
    "\n",
    "All the seller names and their ages\n",
    "\n",
    "**Answer**: Compare the results to the table and check whether this is an expected result"
   ]
  },
  {
   "cell_type": "code",
   "execution_count": null,
   "metadata": {},
   "outputs": [],
   "source": [
    "qres = G.query(\n",
    "    \"\"\"SELECT ?name ?age\n",
    "       WHERE {\n",
    "          ?p a foaf:Person .\n",
    "          ?p foaf:name ?name .\n",
    "          ?p foaf:age ?age .\n",
    "          ?s a sls:Sale .\n",
    "          ?s sls:buyer ?p .\n",
    "       }\"\"\")\n",
    "\n",
    "for a,b in qres:\n",
    "    print(\"%20s  Age: %2s\" % (a,b))\n"
   ]
  },
  {
   "cell_type": "markdown",
   "metadata": {},
   "source": [
    "## 3. Running SPARQL in a dedicated SPARQL endpoint\n",
    "\n",
    "### 3.1. Installing Jena and Fuseki\n",
    "\n",
    "Jena and Fuseki are a set of Java tools for organizing triplestores and handling and processing SPARQL queries. Fuseki provides a web interface to Jena\n",
    "\n",
    "There is no need for a formal installationas as it can run directly from the Desktop, or the place where it was downloaded\n",
    "\n",
    "1. Install [Jena and Fuseki](https://jena.apache.org/index.html)\n",
    "    1. Download the [zip files (or tar.gz)](https://jena.apache.org/download/index.cgi)\n",
    "    2. Choose a directory (preferably close to the Home folder) and decompress them\n",
    "    3. [Update the system variables](https://jena.apache.org/documentation/tools/)\n",
    "\n",
    "On Windows\n",
    "```\n",
    "    SET JENA_HOME =\\the\\directory\\you\\downloaded\\Jena\\to\\\n",
    "    SET PATH=%PATH%;%JENA_HOME%\\bat\n",
    "```\n",
    "\n",
    "On Linux or Mac\n",
    "```\n",
    "    export JENA_HOME=/the/directory/you/downloaded/Jena/to/\n",
    "    export PATH=$PATH:$JENA_HOME/bin\n",
    "```\n",
    "\n",
    "\n",
    "\n",
    "2. Run a query on jena using the `arq`  on the command line\n",
    "\n",
    "```arq --data tp3_data.ttl --query query1.rq```\n"
   ]
  },
  {
   "cell_type": "markdown",
   "metadata": {},
   "source": [
    "### 3.2. Running SPARQL within Jena from Python\n",
    "\n",
    "It is easy. We just need to change the Environment variables to interface with Jena"
   ]
  },
  {
   "cell_type": "code",
   "execution_count": null,
   "metadata": {},
   "outputs": [],
   "source": [
    "#restore environment [only reccommended after the following block is executed]\n",
    "#os.environ['PATH']=oldPath"
   ]
  },
  {
   "cell_type": "code",
   "execution_count": null,
   "metadata": {},
   "outputs": [],
   "source": [
    "import os\n",
    "#save old path - a good practice\n",
    "oldPath=os.environ['PATH']\n",
    "#os.environ['PATH']+=\";C:\\\\Users\\\\Andre\\\\Desktop\\\\J\\\\apache-jena-3.16.0\\\\bat\"\n",
    "#os.environ['JENA_HOME']=\"C:\\\\Users\\\\Andre\\\\Desktop\\\\J\\\\apache-jena-3.16.0\"\n",
    "os.environ['PATH'] +=     \":/home/andre/Desktop/CHEM-OWL/Jena/bin\"\n",
    "os.environ['JENA_HOME'] = \"/home/andre/Desktop/CHEM-OWL/Jena/\""
   ]
  },
  {
   "cell_type": "markdown",
   "metadata": {},
   "source": [
    "\n",
    "We just need to run a sub process and capture the output"
   ]
  },
  {
   "cell_type": "code",
   "execution_count": null,
   "metadata": {},
   "outputs": [],
   "source": [
    "import subprocess\n",
    "#q=[\"arq.bat\",  \"--data\", \"tp3_data.ttl\", \"--query\",\"query1.rq\"]\n",
    "q=[\"arq\",  \"--data\", \"tp3_data.ttl\", \"--query\",\"query1.rq\"]\n",
    "res = subprocess.run(q, capture_output=True)\n",
    "print(res.stdout.decode(\"utf-8\"))\n"
   ]
  },
  {
   "cell_type": "markdown",
   "metadata": {},
   "source": [
    "We can get the output in a more friendly way by changing the results parameter"
   ]
  },
  {
   "cell_type": "code",
   "execution_count": null,
   "metadata": {},
   "outputs": [],
   "source": [
    "q=[\"arq\",  \"--data\", \"tp3_data.ttl\", \"--query\", \"query1.rq\", \"--results=CSV\"]\n",
    "res = subprocess.run(q, capture_output=True)\n",
    "myres=res.stdout.decode(\"utf-8\").split(\"\\n\")\n",
    "for r in myres[1:]:\n",
    "    print(\"Name: %s\" % r)"
   ]
  },
  {
   "cell_type": "markdown",
   "metadata": {},
   "source": [
    "### 3.3. Running SPARQL from a localhost end point\n",
    "\n",
    "run fuseki by directly starting the `fuseki-server` (.bat) in windows\n",
    "\n",
    "1. Upload the Turtle data from the class into the server\n",
    "2. Run the above queries within the framework\n",
    "3. Test different configurations and queries\n",
    "\n",
    "\n",
    "### 3.4. Running SPARQL queries from a localhost end point within Python\n",
    "\n",
    "First install [SPARQLWrapper](https://pypi.org/project/SPARQLWrapper/)\n",
    "\n",
    "```pip install SPARQLWrapper```\n",
    "\n",
    "Point the wrapper to the Fuseki server at `http://localhost:3030/my_data/query` and fire away by setting queries\n"
   ]
  },
  {
   "cell_type": "code",
   "execution_count": null,
   "metadata": {},
   "outputs": [],
   "source": [
    "#!pip install SPARQLWrapper"
   ]
  },
  {
   "cell_type": "code",
   "execution_count": null,
   "metadata": {},
   "outputs": [],
   "source": [
    "from SPARQLWrapper import SPARQLWrapper, XML, TSV\n",
    "\n",
    "sparql_endpoint = SPARQLWrapper(\"http://localhost:3030/TP3/query\")\n",
    "query=\"\"\"\n",
    "prefix aff: <http://www.di.fc.ul.pt/~afalcao/friends#> \n",
    "prefix foaf: <http://xmlns.com/foaf/0.1/> \n",
    "prefix rdfs: <http://www.w3.org/2000/01/rdf-schema#> \n",
    "prefix sls: <http://www.di.fc.ul.pt/~afalcao/Sales#> \n",
    "prefix vc: <http://www.w3.org/2006/vcard/ns#> \n",
    "prefix xsd: <http://www.w3.org/2001/XMLSchema#> \n",
    "\n",
    "SELECT ?name\n",
    "       WHERE {\n",
    "          ?p a foaf:Person .\n",
    "          ?p foaf:name ?name .\n",
    "       }\n",
    "\"\"\"\n",
    "\n",
    "#query=\"\"\"\n",
    "#prefix foaf: <http://xmlns.com/foaf/0.1/> \n",
    "\n",
    "#SELECT ?name\n",
    "#       WHERE {\n",
    "#          ?p a foaf:Person .\n",
    "#          ?p foaf:name ?name .\n",
    "#       }\n",
    "#\"\"\"\n",
    "sparql_endpoint.setQuery(query)\n",
    "\n",
    "sparql_endpoint.setReturnFormat(TSV)\n",
    "results = sparql_endpoint.query().convert().decode(\"utf-8\")\n",
    "print(results)"
   ]
  },
  {
   "cell_type": "markdown",
   "metadata": {},
   "source": [
    "### Exercises\n",
    "\n",
    "1. Run the two lines below and comment their results"
   ]
  },
  {
   "cell_type": "code",
   "execution_count": null,
   "metadata": {},
   "outputs": [],
   "source": [
    "#%timeit sparql_endpoint.setQuery(query)\n",
    "#%timeit qres = G.query(query)"
   ]
  },
  {
   "cell_type": "markdown",
   "metadata": {},
   "source": [
    "2. Answer in SPARQL and test the following queries\n",
    "    1. What are the names of the persons that buy onions and tomatos?\n",
    "    2. What are the names of the persons that buy onions or tomatos?\n",
    "    3. What are the products sold by the  people that live in \"Setúbal\" ?\n",
    "    4. What are the products sold and purchased by people that have less than 30 years\n",
    "    5. what are the products that people who bought onions are selling?\n",
    "    6. How much money each seller made?\n",
    "    7. Who spent more money and how much was it?\n",
    "    "
   ]
  },
  {
   "cell_type": "code",
   "execution_count": null,
   "metadata": {},
   "outputs": [],
   "source": [
    "def runSPARQLquery(Q, endpoint):\n",
    "    endpoint.setQuery(Q)\n",
    "\n",
    "    endpoint.setReturnFormat(TSV)\n",
    "    results = endpoint.query().convert().decode(\"utf-8\")\n",
    "    return results"
   ]
  },
  {
   "cell_type": "code",
   "execution_count": null,
   "metadata": {},
   "outputs": [],
   "source": [
    "#1. What are the names of the persons that buy onions and tomatos? \n",
    "query=\"\"\"\n",
    "prefix aff: <http://www.di.fc.ul.pt/~afalcao/friends#> \n",
    "prefix foaf: <http://xmlns.com/foaf/0.1/> \n",
    "prefix rdfs: <http://www.w3.org/2000/01/rdf-schema#> \n",
    "prefix sls: <http://www.di.fc.ul.pt/~afalcao/Sales#> \n",
    "prefix vc: <http://www.w3.org/2006/vcard/ns#> \n",
    "prefix xsd: <http://www.w3.org/2001/XMLSchema#> \n",
    "\n",
    "SELECT ?name\n",
    "       WHERE { \n",
    "          {\n",
    "             ?p a foaf:Person .\n",
    "             ?s1 sls:buyer ?p .\n",
    "             ?s1 sls:product sls:Potato .\n",
    "             ?s2 sls:buyer ?p .\n",
    "             ?s2 sls:product sls:Tomato .\n",
    "             ?p foaf:name ?name .           \n",
    "         }\n",
    "       }\n",
    "\"\"\"\n",
    "\n",
    "print(runSPARQLquery(query, sparql_endpoint))"
   ]
  },
  {
   "cell_type": "code",
   "execution_count": null,
   "metadata": {},
   "outputs": [],
   "source": [
    "#2. What are the names of the persons that buy onions or tomatos?\n",
    "query=\"\"\"\n",
    "prefix aff: <http://www.di.fc.ul.pt/~afalcao/friends#> \n",
    "prefix foaf: <http://xmlns.com/foaf/0.1/> \n",
    "prefix rdfs: <http://www.w3.org/2000/01/rdf-schema#> \n",
    "prefix sls: <http://www.di.fc.ul.pt/~afalcao/Sales#> \n",
    "prefix vc: <http://www.w3.org/2006/vcard/ns#> \n",
    "prefix xsd: <http://www.w3.org/2001/XMLSchema#> \n",
    "\n",
    "SELECT ?name\n",
    "       WHERE { \n",
    "       {\n",
    "          ?p a foaf:Person .\n",
    "          ?s sls:seller ?p .\n",
    "          ?s sls:product sls:potato .\n",
    "          ?p foaf:name ?name . }\n",
    "          UNION { \n",
    "             ?p a foaf:Person .\n",
    "             ?s sls:seller ?p .\n",
    "             ?s sls:product sls:Tomato .\n",
    "             ?p foaf:name ?name . \n",
    "          }\n",
    "       }\n",
    "\"\"\"\n",
    "\n",
    "print(runSPARQLquery(query, sparql_endpoint))"
   ]
  },
  {
   "cell_type": "code",
   "execution_count": null,
   "metadata": {},
   "outputs": [],
   "source": [
    "#3 - What are the products sold by the  people that live in \"Setúbal\" ?\n",
    "query=\"\"\"\n",
    "prefix aff: <http://www.di.fc.ul.pt/~afalcao/friends#> \n",
    "prefix foaf: <http://xmlns.com/foaf/0.1/> \n",
    "prefix rdfs: <http://www.w3.org/2000/01/rdf-schema#> \n",
    "prefix sls: <http://www.di.fc.ul.pt/~afalcao/Sales#> \n",
    "prefix vc: <http://www.w3.org/2006/vcard/ns#> \n",
    "prefix xsd: <http://www.w3.org/2001/XMLSchema#> \n",
    "\n",
    "SELECT ?prod_name\n",
    "       WHERE { \n",
    "          {\n",
    "             ?p a foaf:Person .\n",
    "             ?s1 sls:seller ?p .\n",
    "             ?s1 sls:product ?prod .\n",
    "             ?prod rdfs:label ?prod_name .\n",
    "             ?p vc:hasAddress ?addr .\n",
    "             ?addr vc:hasLocality \"Setúbal\"@pt-PT .\n",
    "         }\n",
    "       }\n",
    "\"\"\"\n",
    "\n",
    "print(runSPARQLquery(query, sparql_endpoint))"
   ]
  },
  {
   "cell_type": "code",
   "execution_count": null,
   "metadata": {},
   "outputs": [],
   "source": [
    "#    4. What are the products sold and purchased by people that have less than 30 years\n",
    "query=\"\"\"\n",
    "prefix aff: <http://www.di.fc.ul.pt/~afalcao/friends#> \n",
    "prefix foaf: <http://xmlns.com/foaf/0.1/> \n",
    "prefix rdfs: <http://www.w3.org/2000/01/rdf-schema#> \n",
    "prefix sls: <http://www.di.fc.ul.pt/~afalcao/Sales#> \n",
    "prefix vc: <http://www.w3.org/2006/vcard/ns#> \n",
    "prefix xsd: <http://www.w3.org/2001/XMLSchema#> \n",
    "\n",
    "SELECT ?name ?ppurchased_name ?psold_name\n",
    "       WHERE { \n",
    "          {\n",
    "             ?p a foaf:Person .\n",
    "             ?p foaf:name ?name .\n",
    "             ?p foaf:age ?age .\n",
    "             ?s1 sls:seller ?p .             \n",
    "             ?s1 sls:product ?sprod .\n",
    "             ?s2 sls:buyer ?p . \n",
    "             ?s2 sls:product ?bprod .\n",
    "             ?sprod rdfs:label ?psold_name .\n",
    "             ?bprod rdfs:label ?ppurchased_name .\n",
    "             FILTER ( ?age < 30 )\n",
    "         }\n",
    "       }\n",
    "\"\"\"\n",
    "\n",
    "print(runSPARQLquery(query, sparql_endpoint))"
   ]
  },
  {
   "cell_type": "code",
   "execution_count": null,
   "metadata": {},
   "outputs": [],
   "source": [
    "#    5. what are the products that people who bought onions are selling?\n",
    "query=\"\"\"\n",
    "prefix aff: <http://www.di.fc.ul.pt/~afalcao/friends#> \n",
    "prefix foaf: <http://xmlns.com/foaf/0.1/> \n",
    "prefix rdfs: <http://www.w3.org/2000/01/rdf-schema#> \n",
    "prefix sls: <http://www.di.fc.ul.pt/~afalcao/Sales#> \n",
    "prefix vc: <http://www.w3.org/2006/vcard/ns#> \n",
    "prefix xsd: <http://www.w3.org/2001/XMLSchema#> \n",
    "\n",
    "SELECT ?product\n",
    "       WHERE { \n",
    "          {\n",
    "             ?p a foaf:Person .\n",
    "             ?s1 sls:buyer ?p .             \n",
    "             ?s1 sls:product sls:Onion .\n",
    "\n",
    "             ?s2 sls:seller ?p . \n",
    "             ?s2 sls:product ?prod .\n",
    "             ?prod rdfs:label ?product .\n",
    "         }\n",
    "       }\n",
    "\"\"\"\n",
    "\n",
    "print(runSPARQLquery(query, sparql_endpoint))"
   ]
  },
  {
   "cell_type": "code",
   "execution_count": null,
   "metadata": {},
   "outputs": [],
   "source": [
    "#    6. How much money each seller made?\n",
    "query=\"\"\"\n",
    "prefix aff: <http://www.di.fc.ul.pt/~afalcao/friends#> \n",
    "prefix foaf: <http://xmlns.com/foaf/0.1/> \n",
    "prefix rdfs: <http://www.w3.org/2000/01/rdf-schema#> \n",
    "prefix sls: <http://www.di.fc.ul.pt/~afalcao/Sales#> \n",
    "prefix vc: <http://www.w3.org/2006/vcard/ns#> \n",
    "prefix xsd: <http://www.w3.org/2001/XMLSchema#> \n",
    "\n",
    "SELECT ?p (SUM(?cost) as ?money)\n",
    "       WHERE { \n",
    "             ?s sls:seller ?p .             \n",
    "             ?s sls:cost ?cost .\n",
    "       }\n",
    "       GROUP BY ?p\n",
    "\"\"\"\n",
    "\n",
    "print(runSPARQLquery(query, sparql_endpoint))"
   ]
  },
  {
   "cell_type": "code",
   "execution_count": null,
   "metadata": {},
   "outputs": [],
   "source": [
    "#    7. Who spent more money and how much was it?\n",
    "#       (this is a dirty trick!)\n",
    "\n",
    "query=\"\"\"\n",
    "prefix aff: <http://www.di.fc.ul.pt/~afalcao/friends#> \n",
    "prefix foaf: <http://xmlns.com/foaf/0.1/> \n",
    "prefix rdfs: <http://www.w3.org/2000/01/rdf-schema#> \n",
    "prefix sls: <http://www.di.fc.ul.pt/~afalcao/Sales#> \n",
    "prefix vc: <http://www.w3.org/2006/vcard/ns#> \n",
    "prefix xsd: <http://www.w3.org/2001/XMLSchema#> \n",
    "\n",
    "SELECT ?n ?money\n",
    "       WHERE { \n",
    "          { SELECT ?n (SUM(?cost) as ?money)\n",
    "            WHERE { \n",
    "              ?s sls:seller ?p .             \n",
    "              ?p foaf:name ?n .             \n",
    "              ?s sls:cost ?cost .\n",
    "            }\n",
    "            GROUP BY ?n\n",
    "            ORDER BY DESC(?money) \n",
    "            LIMIT 1\n",
    "          }\n",
    "       }\n",
    "\"\"\"\n",
    "\n",
    "\n",
    "print(runSPARQLquery(query, sparql_endpoint))"
   ]
  }
 ],
 "metadata": {
  "kernelspec": {
   "display_name": "Python 3",
   "language": "python",
   "name": "python3"
  },
  "language_info": {
   "codemirror_mode": {
    "name": "ipython",
    "version": 3
   },
   "file_extension": ".py",
   "mimetype": "text/x-python",
   "name": "python",
   "nbconvert_exporter": "python",
   "pygments_lexer": "ipython3",
   "version": "3.8.8"
  }
 },
 "nbformat": 4,
 "nbformat_minor": 4
}
